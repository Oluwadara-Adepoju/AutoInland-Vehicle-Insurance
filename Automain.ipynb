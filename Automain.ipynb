{
 "cells": [
  {
   "cell_type": "code",
   "execution_count": 4,
   "metadata": {},
   "outputs": [],
   "source": [
    "import pandas as pd\n",
    "import numpy as np\n",
    "import datetime as dt\n",
    "from tqdm.notebook import tqdm_notebook\n",
    "import seaborn as sns\n",
    "import matplotlib.pyplot as plt\n",
    "from sklearn.metrics import f1_score\n",
    "from lightgbm import LGBMClassifier\n",
    "from sklearn.model_selection import train_test_split\n",
    "import warnings\n",
    "warnings.filterwarnings('ignore')"
   ]
  },
  {
   "cell_type": "code",
   "execution_count": 5,
   "metadata": {},
   "outputs": [],
   "source": [
    "# Load files into a pandas dataframe\n",
    "train = pd.read_csv('Train (2).csv',parse_dates=['Policy Start Date','Policy End Date','First Transaction Date'],index_col='ID')\n",
    "test = pd.read_csv('Test (1).csv',parse_dates=['Policy Start Date','Policy End Date','First Transaction Date'],index_col='ID')\n",
    "ss = pd.read_csv('SampleSubmission (1).csv')"
   ]
  },
  {
   "cell_type": "code",
   "execution_count": 6,
   "metadata": {},
   "outputs": [],
   "source": [
    "y=train['target']"
   ]
  },
  {
   "cell_type": "code",
   "execution_count": 7,
   "metadata": {},
   "outputs": [],
   "source": [
    "train = train.drop('target',axis=1)"
   ]
  },
  {
   "cell_type": "code",
   "execution_count": 8,
   "metadata": {},
   "outputs": [
    {
     "data": {
      "text/html": [
       "<div>\n",
       "<style scoped>\n",
       "    .dataframe tbody tr th:only-of-type {\n",
       "        vertical-align: middle;\n",
       "    }\n",
       "\n",
       "    .dataframe tbody tr th {\n",
       "        vertical-align: top;\n",
       "    }\n",
       "\n",
       "    .dataframe thead th {\n",
       "        text-align: right;\n",
       "    }\n",
       "</style>\n",
       "<table border=\"1\" class=\"dataframe\">\n",
       "  <thead>\n",
       "    <tr style=\"text-align: right;\">\n",
       "      <th></th>\n",
       "      <th>Policy Start Date</th>\n",
       "      <th>Policy End Date</th>\n",
       "      <th>Gender</th>\n",
       "      <th>Age</th>\n",
       "      <th>First Transaction Date</th>\n",
       "      <th>No_Pol</th>\n",
       "      <th>Car_Category</th>\n",
       "      <th>Subject_Car_Colour</th>\n",
       "      <th>Subject_Car_Make</th>\n",
       "      <th>LGA_Name</th>\n",
       "      <th>State</th>\n",
       "      <th>ProductName</th>\n",
       "    </tr>\n",
       "    <tr>\n",
       "      <th>ID</th>\n",
       "      <th></th>\n",
       "      <th></th>\n",
       "      <th></th>\n",
       "      <th></th>\n",
       "      <th></th>\n",
       "      <th></th>\n",
       "      <th></th>\n",
       "      <th></th>\n",
       "      <th></th>\n",
       "      <th></th>\n",
       "      <th></th>\n",
       "      <th></th>\n",
       "    </tr>\n",
       "  </thead>\n",
       "  <tbody>\n",
       "    <tr>\n",
       "      <th>ID_0040R73</th>\n",
       "      <td>2010-05-14</td>\n",
       "      <td>2011-05-13</td>\n",
       "      <td>Male</td>\n",
       "      <td>30</td>\n",
       "      <td>2010-05-14</td>\n",
       "      <td>1</td>\n",
       "      <td>Saloon</td>\n",
       "      <td>Black</td>\n",
       "      <td>TOYOTA</td>\n",
       "      <td>NaN</td>\n",
       "      <td>NaN</td>\n",
       "      <td>Car Classic</td>\n",
       "    </tr>\n",
       "    <tr>\n",
       "      <th>ID_0046BNK</th>\n",
       "      <td>2010-11-29</td>\n",
       "      <td>2011-11-28</td>\n",
       "      <td>Female</td>\n",
       "      <td>79</td>\n",
       "      <td>2010-11-29</td>\n",
       "      <td>1</td>\n",
       "      <td>JEEP</td>\n",
       "      <td>Grey</td>\n",
       "      <td>TOYOTA</td>\n",
       "      <td>NaN</td>\n",
       "      <td>NaN</td>\n",
       "      <td>Car Classic</td>\n",
       "    </tr>\n",
       "    <tr>\n",
       "      <th>ID_005QMC3</th>\n",
       "      <td>2010-03-21</td>\n",
       "      <td>2011-03-20</td>\n",
       "      <td>Male</td>\n",
       "      <td>43</td>\n",
       "      <td>2010-03-21</td>\n",
       "      <td>1</td>\n",
       "      <td>Saloon</td>\n",
       "      <td>Red</td>\n",
       "      <td>TOYOTA</td>\n",
       "      <td>NaN</td>\n",
       "      <td>NaN</td>\n",
       "      <td>Car Classic</td>\n",
       "    </tr>\n",
       "    <tr>\n",
       "      <th>ID_0079OHW</th>\n",
       "      <td>2010-08-21</td>\n",
       "      <td>2011-08-20</td>\n",
       "      <td>Male</td>\n",
       "      <td>2</td>\n",
       "      <td>2010-08-21</td>\n",
       "      <td>1</td>\n",
       "      <td>NaN</td>\n",
       "      <td>NaN</td>\n",
       "      <td>NaN</td>\n",
       "      <td>NaN</td>\n",
       "      <td>NaN</td>\n",
       "      <td>CarSafe</td>\n",
       "    </tr>\n",
       "    <tr>\n",
       "      <th>ID_00BRP63</th>\n",
       "      <td>2010-08-29</td>\n",
       "      <td>2010-12-31</td>\n",
       "      <td>Entity</td>\n",
       "      <td>20</td>\n",
       "      <td>2010-08-29</td>\n",
       "      <td>3</td>\n",
       "      <td>NaN</td>\n",
       "      <td>NaN</td>\n",
       "      <td>NaN</td>\n",
       "      <td>Lagos</td>\n",
       "      <td>Lagos</td>\n",
       "      <td>Muuve</td>\n",
       "    </tr>\n",
       "  </tbody>\n",
       "</table>\n",
       "</div>"
      ],
      "text/plain": [
       "           Policy Start Date Policy End Date  Gender  Age  \\\n",
       "ID                                                          \n",
       "ID_0040R73        2010-05-14      2011-05-13    Male   30   \n",
       "ID_0046BNK        2010-11-29      2011-11-28  Female   79   \n",
       "ID_005QMC3        2010-03-21      2011-03-20    Male   43   \n",
       "ID_0079OHW        2010-08-21      2011-08-20    Male    2   \n",
       "ID_00BRP63        2010-08-29      2010-12-31  Entity   20   \n",
       "\n",
       "           First Transaction Date  No_Pol Car_Category Subject_Car_Colour  \\\n",
       "ID                                                                          \n",
       "ID_0040R73             2010-05-14       1       Saloon              Black   \n",
       "ID_0046BNK             2010-11-29       1         JEEP               Grey   \n",
       "ID_005QMC3             2010-03-21       1       Saloon                Red   \n",
       "ID_0079OHW             2010-08-21       1          NaN                NaN   \n",
       "ID_00BRP63             2010-08-29       3          NaN                NaN   \n",
       "\n",
       "           Subject_Car_Make LGA_Name  State  ProductName  \n",
       "ID                                                        \n",
       "ID_0040R73           TOYOTA      NaN    NaN  Car Classic  \n",
       "ID_0046BNK           TOYOTA      NaN    NaN  Car Classic  \n",
       "ID_005QMC3           TOYOTA      NaN    NaN  Car Classic  \n",
       "ID_0079OHW              NaN      NaN    NaN      CarSafe  \n",
       "ID_00BRP63              NaN    Lagos  Lagos        Muuve  "
      ]
     },
     "execution_count": 8,
     "metadata": {},
     "output_type": "execute_result"
    }
   ],
   "source": [
    "train.head()"
   ]
  },
  {
   "cell_type": "code",
   "execution_count": 9,
   "metadata": {},
   "outputs": [
    {
     "data": {
      "text/plain": [
       "(12079, 12)"
      ]
     },
     "execution_count": 9,
     "metadata": {},
     "output_type": "execute_result"
    }
   ],
   "source": [
    "train.shape"
   ]
  },
  {
   "cell_type": "code",
   "execution_count": 10,
   "metadata": {},
   "outputs": [
    {
     "data": {
      "text/plain": [
       "(5177, 12)"
      ]
     },
     "execution_count": 10,
     "metadata": {},
     "output_type": "execute_result"
    }
   ],
   "source": [
    "test.shape"
   ]
  },
  {
   "cell_type": "code",
   "execution_count": 11,
   "metadata": {},
   "outputs": [
    {
     "data": {
      "text/plain": [
       "Policy Start Date          0.000000\n",
       "Policy End Date            0.000000\n",
       "Gender                     2.972100\n",
       "Age                        0.000000\n",
       "First Transaction Date     0.000000\n",
       "No_Pol                     0.000000\n",
       "Car_Category              30.946270\n",
       "Subject_Car_Colour        57.637222\n",
       "Subject_Car_Make          20.498386\n",
       "LGA_Name                  53.613710\n",
       "State                     53.713056\n",
       "ProductName                0.000000\n",
       "dtype: float64"
      ]
     },
     "execution_count": 11,
     "metadata": {},
     "output_type": "execute_result"
    }
   ],
   "source": [
    "train.isnull().sum()/len(train)* 100"
   ]
  },
  {
   "cell_type": "code",
   "execution_count": 12,
   "metadata": {},
   "outputs": [
    {
     "data": {
      "text/plain": [
       "Policy Start Date          0.000000\n",
       "Policy End Date            0.000000\n",
       "Gender                     3.013328\n",
       "Age                        0.000000\n",
       "First Transaction Date     0.000000\n",
       "No_Pol                     0.000000\n",
       "Car_Category              31.639946\n",
       "Subject_Car_Colour        58.045200\n",
       "Subject_Car_Make          20.494495\n",
       "LGA_Name                  53.737686\n",
       "State                     53.853583\n",
       "ProductName                0.000000\n",
       "dtype: float64"
      ]
     },
     "execution_count": 12,
     "metadata": {},
     "output_type": "execute_result"
    }
   ],
   "source": [
    "test.isnull().sum()/len(test)*100"
   ]
  },
  {
   "cell_type": "code",
   "execution_count": 13,
   "metadata": {},
   "outputs": [
    {
     "name": "stdout",
     "output_type": "stream",
     "text": [
      "<class 'pandas.core.frame.DataFrame'>\n",
      "Index: 12079 entries, ID_0040R73 to ID_ZZWRIIE\n",
      "Data columns (total 12 columns):\n",
      " #   Column                  Non-Null Count  Dtype         \n",
      "---  ------                  --------------  -----         \n",
      " 0   Policy Start Date       12079 non-null  datetime64[ns]\n",
      " 1   Policy End Date         12079 non-null  datetime64[ns]\n",
      " 2   Gender                  11720 non-null  object        \n",
      " 3   Age                     12079 non-null  int64         \n",
      " 4   First Transaction Date  12079 non-null  datetime64[ns]\n",
      " 5   No_Pol                  12079 non-null  int64         \n",
      " 6   Car_Category            8341 non-null   object        \n",
      " 7   Subject_Car_Colour      5117 non-null   object        \n",
      " 8   Subject_Car_Make        9603 non-null   object        \n",
      " 9   LGA_Name                5603 non-null   object        \n",
      " 10  State                   5591 non-null   object        \n",
      " 11  ProductName             12079 non-null  object        \n",
      "dtypes: datetime64[ns](3), int64(2), object(7)\n",
      "memory usage: 1.2+ MB\n"
     ]
    }
   ],
   "source": [
    "train.info()"
   ]
  },
  {
   "cell_type": "code",
   "execution_count": 14,
   "metadata": {},
   "outputs": [
    {
     "name": "stdout",
     "output_type": "stream",
     "text": [
      "<class 'pandas.core.frame.DataFrame'>\n",
      "Index: 5177 entries, ID_009D84L to ID_ZZYTLV1\n",
      "Data columns (total 12 columns):\n",
      " #   Column                  Non-Null Count  Dtype         \n",
      "---  ------                  --------------  -----         \n",
      " 0   Policy Start Date       5177 non-null   datetime64[ns]\n",
      " 1   Policy End Date         5177 non-null   datetime64[ns]\n",
      " 2   Gender                  5021 non-null   object        \n",
      " 3   Age                     5177 non-null   int64         \n",
      " 4   First Transaction Date  5177 non-null   datetime64[ns]\n",
      " 5   No_Pol                  5177 non-null   int64         \n",
      " 6   Car_Category            3539 non-null   object        \n",
      " 7   Subject_Car_Colour      2172 non-null   object        \n",
      " 8   Subject_Car_Make        4116 non-null   object        \n",
      " 9   LGA_Name                2395 non-null   object        \n",
      " 10  State                   2389 non-null   object        \n",
      " 11  ProductName             5177 non-null   object        \n",
      "dtypes: datetime64[ns](3), int64(2), object(7)\n",
      "memory usage: 525.8+ KB\n"
     ]
    }
   ],
   "source": [
    "test.info()"
   ]
  },
  {
   "cell_type": "code",
   "execution_count": null,
   "metadata": {},
   "outputs": [],
   "source": []
  },
  {
   "cell_type": "code",
   "execution_count": 15,
   "metadata": {},
   "outputs": [],
   "source": [
    "train.Car_Category.fillna('Others',inplace =True)\n",
    "train['Car_Category'] = train['Car_Category'].replace({\"Mini Van\": \"Van\",\n",
    "                                                   \"Pick Up > 3 Tons\": \"Pick Up\",\"Mini Bus\": \"Bus\",\"Sedan\": \"Saloon\"\n",
    "                                                    ,\"CAMRY CAR HIRE\": \"Saloon\",\"Tipper Truck\": \"Truck\"\n",
    "                                                    ,\"Shape Of Vehicle Chasis\": \"Others\",\"Station 4 Wheel\": \"Others\"})\n",
    "test.Car_Category.fillna('Others',inplace =True)\n",
    "test['Car_Category'] = test['Car_Category'].replace({\"Mini Van\": \"Van\",\n",
    "                                                   \"Pick Up > 3 Tons\": \"Pick Up\",\"Mini Bus\": \"Bus\",\"Sedan\": \"Saloon\"\n",
    "                                                    ,\"CAMRY CAR HIRE\": \"Saloon\",\"Tipper Truck\": \"Truck\"\n",
    "                                                    ,\"Shape Of Vehicle Chasis\": \"Others\",\"Station 4 Wheel\": \"Others\"})"
   ]
  },
  {
   "cell_type": "code",
   "execution_count": 16,
   "metadata": {},
   "outputs": [
    {
     "data": {
      "text/plain": [
       "array(['Saloon', 'JEEP', 'Others', 'Motorcycle', 'Truck', 'Bus',\n",
       "       'Pick Up', 'Van', 'Wagon'], dtype=object)"
      ]
     },
     "execution_count": 16,
     "metadata": {},
     "output_type": "execute_result"
    }
   ],
   "source": [
    "train.Car_Category.unique()"
   ]
  },
  {
   "cell_type": "code",
   "execution_count": 17,
   "metadata": {},
   "outputs": [
    {
     "data": {
      "text/plain": [
       "array([nan, 'Lagos', 'Ikeja', 'Badagry', 'Eti-Osa', 'Victoria Island',\n",
       "       'Ikoyi', 'Lagos Mainland', 'EFFURUN', 'Abeokuta',\n",
       "       'Abuja Municipal', 'Yaba', 'Aguda', 'Surulere', 'Oshodi-Isolo',\n",
       "       'Alimosho', 'Okpe, Delta State', 'Asaba', 'IbadanCentral', 'Lekki',\n",
       "       'Ibeju/Lekki', 'OBANIKORO', 'Agege', 'ISHERI', 'Kosofe', 'OGUN',\n",
       "       'Apapa', 'Ibadan South West', 'Obia/Akpor', 'Ibadan South East',\n",
       "       'Sapele', 'Kaduna South', 'Ikorodu', 'Amuwo-Odofin', 'Awka',\n",
       "       'GBAGADA', 'Port Harcourt', 'Minna', 'Shomolu', 'Benin',\n",
       "       'Lagos Island', 'Central', 'Ebute-Metta', 'Ketu', 'Uyo', 'Mushin',\n",
       "       'Katagum', 'ENUGU EAST', 'Oredo', 'Abuja', 'Festac', 'Ipaja',\n",
       "       'Zaria ', 'Esan West', 'Oluyole', 'Bwari', 'Obafemi-Owode', 'LGA',\n",
       "       'Orile-Iganmu', 'Egbeda', 'Ido', 'Ifako-Ijaye ', 'Ibadan North',\n",
       "       'Oguta', 'Jos North', 'Ajah', 'Ondo West', 'Kaduna North', 'Warri',\n",
       "       'Aniocha South', 'Owerri', 'Awka South', 'Asokoro District',\n",
       "       'Ile-Oluji', 'Ijebu Ode', 'Port-Harcourt', 'Oshodi', 'EMENE',\n",
       "       'Alagbado', 'Wuse 11', 'Egor', 'Biase', 'Shagamu', 'Nnewi North',\n",
       "       'Aboh-Mbaise', 'IBADAN NORTH EAST', 'Akinyele', 'Oyo',\n",
       "       'Akoko North West', 'OGBA', 'Warri Central', 'Ilupeju', 'Calabar',\n",
       "       'Jos South', 'Onitsha North', 'AKUTE', 'Ifo', 'Ojodu', 'Bekwara',\n",
       "       'Ibadan North West', 'Epe', 'Maryland', 'Osogbo', 'Kuje', 'Idanre',\n",
       "       'Ajeromi-Ifelodun', 'Olorunsogo', 'Udu', 'OGUDU', 'Kano Municipal',\n",
       "       'Ife Central', 'Ilorin West', 'Lagelu Ogbomosho North', 'Katcha',\n",
       "       'Isolo', 'Akwa Ibom', 'Anthony Village', 'Abeokuta South',\n",
       "       'MAGODO', 'Kaduna', 'Owerri-Municipal', 'OJOTA', 'Somolu',\n",
       "       'Nsit Ubium', 'Bonny', 'Udi Agwu', 'Essien Udim', 'Owerri West ',\n",
       "       'Akure', 'IJAIYE', 'Ogbmosho South', 'Marina', 'Orolu',\n",
       "       'Umuahia South', 'Ile-Ife', 'ABULE EGBA', 'Enugu North',\n",
       "       'Ovia SouthWest', 'OKOTA', 'Argungu', 'Okpe',\n",
       "       'Ajegunle,Lagos  State', 'Nnewi', 'AREPO', 'Irepodun',\n",
       "       'Ekiti South-West', 'Ogun Waterside', 'Ife North', 'RIVERS',\n",
       "       'Dopemu', 'Akure South', 'ONDO', 'Oyi ', 'Anambra East', 'Keffi',\n",
       "       'Etsako West', 'Uvwie', 'Ilorin', 'Akoka', 'Aba North',\n",
       "       'Awka North', 'Ibarapa Central', 'Ojo', 'AWOYAYA', 'Idemili North',\n",
       "       'Onitsha', 'IBA', 'Ikot Ekpene', 'Ijora', ' IFAKO', 'Niger State',\n",
       "       'Ogba/Egbema/Ndoni', 'Eleme', 'Ejigbo', 'Calabar Municipality',\n",
       "       'Abeokuta North', 'Yorro', 'Ilesha', 'Ikeja G.R.A', 'Goronyo',\n",
       "       'Chanchaga', 'AJAO ESTATE', 'Ekiti-East', 'Gombe', 'Ikotun', 'Iwo',\n",
       "       'AKOKO-EDO', 'Jibia', 'Obalende', 'Yenagoa', 'Ado-Odo/Ota',\n",
       "       'Oyo East', 'Rogo', 'Ilorin East', 'Ilesha West', 'Garki',\n",
       "       'kumbotso', 'Asa', 'Central Area, Abuja', 'Ukpoba', 'BARIGA',\n",
       "       'Ikenne', 'Kano', 'Ilasamaja', 'Ekeremor', 'ONIRU', 'SANGO OTTA',\n",
       "       'Owerri North', 'Umuahia', 'Eket', 'Garko', 'SANGOTEDO', 'Lokoja',\n",
       "       'Ilesha East', 'Esan Central', 'Isoko south', 'Ethiope East',\n",
       "       'QuaAn Pan', 'Warri North', 'Njaba', 'Akuku Toru', 'Ado-Ekiti',\n",
       "       'Agbor', 'Karu', 'Bauchi', 'Ijebu East', 'Orsu', 'MAGBORO',\n",
       "       'Bosso', 'Onitsha South', 'Ughelli North', 'Warri South',\n",
       "       'Nwangele', 'Abakaliki', 'Oyo West', 'Aba South', 'Ekiti',\n",
       "       'ALAPERE', 'ISHAGA', 'Isoko North', 'Oshimili North',\n",
       "       'Ndokwa East', 'Okrika', 'Tai ', 'OWODE', 'Oturkpo', 'Bida',\n",
       "       'Oshimili', 'Nnewi South', 'ENUGU SOUTH', 'Olamabolo', 'Ikwerre',\n",
       "       'Kajola', 'Palm Groove', 'Ijebu North', 'Akure North', 'Ohaukwu',\n",
       "       'Asari-Toru', 'Ogbomoso'], dtype=object)"
      ]
     },
     "execution_count": 17,
     "metadata": {},
     "output_type": "execute_result"
    }
   ],
   "source": [
    "train.LGA_Name.unique()"
   ]
  },
  {
   "cell_type": "code",
   "execution_count": 18,
   "metadata": {},
   "outputs": [],
   "source": [
    "train['LGA_Name']=train.LGA_Name.replace({'LGA':'Unknown'})\n",
    "test['LGA_Name']=test.LGA_Name.replace({'LGA':'Unknown'})\n",
    "train.LGA_Name.fillna('Unknown',inplace =True)\n",
    "test.LGA_Name.fillna('Unknown',inplace=True)"
   ]
  },
  {
   "cell_type": "code",
   "execution_count": 19,
   "metadata": {},
   "outputs": [
    {
     "data": {
      "text/plain": [
       "array(['Black', 'Grey', 'Red', nan, 'As Attached', 'Blue', 'Silver',\n",
       "       'Green', 'Ash', 'White', 'Gray & Gray', 'Wine', 'Brown',\n",
       "       'Red & Blue', 'Gold', 'Gray & Silver', 'Orange', 'Red & Black',\n",
       "       'Dark Grey', 'White & Red', 'Light Green', 'Dark Gray', 'B.Silver',\n",
       "       'Purple', 'Blue & Red', 'Red & Yellow', 'Yellow', 'Red & White',\n",
       "       'D. Red', 'Dark Red', 'Black & White', 'White & Blue', 'Cream',\n",
       "       'Dark Green', 'D. Gold', 'Champagne', 'Light Blue',\n",
       "       'Blue&White&Red', 'White & Yellow', 'Dark Blue', 'Black & Orange',\n",
       "       'Burgundy', 'Yellow & White', 'Beige Mitalic', 'Light Gray',\n",
       "       'Blue Sky'], dtype=object)"
      ]
     },
     "execution_count": 19,
     "metadata": {},
     "output_type": "execute_result"
    }
   ],
   "source": [
    "train.Subject_Car_Colour.unique()"
   ]
  },
  {
   "cell_type": "code",
   "execution_count": 20,
   "metadata": {},
   "outputs": [],
   "source": [
    "train.Subject_Car_Colour.fillna('Unknown',inplace =True)\n",
    "train['Subject_Car_Colour'] = train['Subject_Car_Colour'].replace({\"White & Blue\": \"Multicolor\",\n",
    "                                                   \"Red & White\": \"Multicolor\",\"Blue & Red\": \"Multicolor\",\"Gray & Gray\": \"Grey\"\n",
    "                                                    ,\"Black & Orange\": \"Multicolor\",\"Red & Black\": \"Multicolor\",\"Gray & Silver\": \"Multicolor\"\n",
    "                                                    ,\"Yellow & White\": \"Multicolor\",\"Red & Yellow\": \"Multicolor\"\n",
    "                                                              ,\"Blue&White&Red\": \"Multicolor\" ,\"Black & White\": \"Multicolor\" \n",
    "                                                             ,\"White & Red\": \"Multicolor\",\"Red & Blue\": \"Multicolor\" , \"White & Yellow\": \"Multicolor\"\n",
    "                                                            ,'D. Red':'Dark Red','D. Gold':'Champagne','Dark Grey':'Dark Gray','Blue Sky':'Light Blue'})\n",
    "\n",
    "test.Subject_Car_Colour.fillna('Unknown',inplace =True)\n",
    "test['Subject_Car_Colour'] = test['Subject_Car_Colour'].replace({\"White & Blue\": \"Multicolor\",\n",
    "                                                   \"Red & White\": \"Multicolor\",\"Blue & Red\": \"Multicolor\",\"Gray & Gray\": \"Grey\"\n",
    "                                                    ,\"Black & Orange\": \"Multicolor\",\"Red & Black\": \"Multicolor\",\"Gray & Silver\": \"Multicolor\"\n",
    "                                                    ,\"Yellow & White\": \"Multicolor\",\"Red & Yellow\": \"Multicolor\"\n",
    "                                                              ,\"Blue&White&Red\": \"Multicolor\" ,\"Black & White\": \"Multicolor\" \n",
    "                                                             ,\"White & Red\": \"Multicolor\",\"Red & Blue\": \"Multicolor\" , \"White & Yellow\": \"Multicolor\"\n",
    "                                                                ,'D. Red':'Dark Red','D. Gold':'Champagne','Dark Grey':'Dark Gray','Blue Sky':'Light Blue'})"
   ]
  },
  {
   "cell_type": "code",
   "execution_count": 21,
   "metadata": {},
   "outputs": [
    {
     "data": {
      "text/plain": [
       "array(['Black', 'Grey', 'Red', 'Unknown', 'As Attached', 'Blue', 'Silver',\n",
       "       'Green', 'Ash', 'White', 'Wine', 'Brown', 'Multicolor', 'Gold',\n",
       "       'Orange', 'Dark Gray', 'Light Green', 'B.Silver', 'Purple',\n",
       "       'Yellow', 'Dark Red', 'Cream', 'Dark Green', 'Champagne',\n",
       "       'Light Blue', 'Dark Blue', 'Burgundy', 'Beige Mitalic',\n",
       "       'Light Gray'], dtype=object)"
      ]
     },
     "execution_count": 21,
     "metadata": {},
     "output_type": "execute_result"
    }
   ],
   "source": [
    "train.Subject_Car_Colour.unique()"
   ]
  },
  {
   "cell_type": "code",
   "execution_count": 22,
   "metadata": {},
   "outputs": [
    {
     "data": {
      "text/plain": [
       "array(['Male', 'Female', 'Entity', 'Joint Gender', nan, 'NO GENDER',\n",
       "       'NOT STATED', 'SEX'], dtype=object)"
      ]
     },
     "execution_count": 22,
     "metadata": {},
     "output_type": "execute_result"
    }
   ],
   "source": [
    "train.Gender.unique()"
   ]
  },
  {
   "cell_type": "code",
   "execution_count": 23,
   "metadata": {},
   "outputs": [],
   "source": [
    "train['Gender'] =train['Gender'].replace({\"NO GENDER\": \"NOT STATED\",\n",
    "                                                   \"SEX\": \"NOT STATED\",\"NO GENDER\": \"NOT STATED\",'Joint Gender':'NOT STATED','Entity':'NOT STATED'})\n",
    "train['Gender'].fillna('NOT STATED', inplace=True)\n",
    "\n",
    "\n",
    "\n",
    "test['Gender'] =test['Gender'].replace({\"NO GENDER\": \"NOT STATED\",\n",
    "                                                   \"SEX\": \"NOT STATED\",\"NO GENDER\": \"NOT STATED\",'Joint Gender':'NOT STATED','Entity':'NOT STATED'})\n",
    "test['Gender'].fillna('NOT STATED', inplace=True)"
   ]
  },
  {
   "cell_type": "code",
   "execution_count": 24,
   "metadata": {},
   "outputs": [],
   "source": [
    "date_columns = ['Policy Start Date','Policy End Date','First Transaction Date']\n"
   ]
  },
  {
   "cell_type": "code",
   "execution_count": 25,
   "metadata": {},
   "outputs": [],
   "source": [
    "def extract_date_info(df,cols,):\n",
    "    for feat in cols:\n",
    "        df[feat +'_year'] = df[feat].dt.quarter\n",
    "        df[feat +'_day'] = df[feat].dt.day\n",
    "        df[feat +'_month'] = df[feat].dt.month\n",
    "        df[feat +'_quarter'] = df[feat].dt.quarter\n",
    "    df.drop(columns=date_columns,axis=1,inplace=True)"
   ]
  },
  {
   "cell_type": "code",
   "execution_count": 26,
   "metadata": {},
   "outputs": [],
   "source": [
    "extract_date_info(train,date_columns)\n",
    "extract_date_info(test,date_columns)"
   ]
  },
  {
   "cell_type": "code",
   "execution_count": 27,
   "metadata": {},
   "outputs": [
    {
     "data": {
      "text/plain": [
       "array([nan, 'Lagos', 'Benue', 'Eti-Osa', 'Delta', 'Ogun',\n",
       "       'Abuja-Municipal', 'Oshodi-Isolo', 'Ibeju-Lekki', 'Ibadan-West',\n",
       "       'Obia-Akpor', 'Ibadan-East', 'Kaduna-South', 'Amuwo-Odofin',\n",
       "       'Anambra', 'Rivers', 'Niger-State', 'Edo', 'Akwa-Ibom',\n",
       "       'ENUGU-EAST', 'Abuja', 'Kaduna', 'Esan-West', 'Obafemi-Owode',\n",
       "       'Orile-Iganmu', 'Ifako-Ijaye', 'Ibadan-North', 'Imo', 'Jos-North',\n",
       "       'Ondo-West', 'Kaduna-North', 'Aniocha-South', 'Awka-South',\n",
       "       'Ile-Oluji', 'Ijebu-Ode', 'Port-Harcourt', 'Nnewi-North',\n",
       "       'Aboh-Mbaise', 'Oyo', 'Akoko-West', 'Warri-Central', 'Cross-River',\n",
       "       'Jos-South', 'Onitsha-North', 'Osun', 'Ajeromi-Ifelodun',\n",
       "       'Kano-Municipal', 'Ife-Central', 'Ilorin-West', 'Lagelu-North',\n",
       "       'Owerri-Municipal', 'Nsit-Ubium', 'Udi-Agwu', 'Essien-Udim',\n",
       "       'Owerri-West', 'Ondo', 'Ogbmosho-South', 'Umuahia-South',\n",
       "       'ABULE-EGBA', 'Enugu-North', 'Ovia-SouthWest', 'Kebbi',\n",
       "       'Ajegunle-State', 'Ekiti-West', 'Ogun-Waterside', 'Ife-North',\n",
       "       'Anambra-East', 'Nasarawa', 'Etsako-West', 'Kwara', 'Aba-North',\n",
       "       'Awka-North', 'Ibarapa-Central', 'Idemili-North', 'Ogba-Ndoni',\n",
       "       'Calabar-Municipality', 'AJAO-ESTATE', 'Ekiti-East', 'Gombe',\n",
       "       'Bayelsa', 'Ado-Ota', 'Oyo-East', 'Ilorin-East', 'Ilesha-West',\n",
       "       'Central-Abuja', 'Kano', 'Owerri-North', 'Abia', 'Kogi',\n",
       "       'Ilesha-East', 'Esan-Central', 'Isoko-south', 'Ethiope-East',\n",
       "       'QuaAn-Pan', 'Warri-North', 'Ado-Ekiti', 'Bauchi', 'Ijebu-East',\n",
       "       'Onitsha-South', 'Ughelli-North', 'Warri-South', 'Ebonyi',\n",
       "       'Oyo-West', 'Aba-South', 'N-A', 'Isoko-North', 'Oshimili-North',\n",
       "       'Ndokwa-East', 'Nnewi-South', 'ENUGU-SOUTH', 'Ijebu-North',\n",
       "       'Asari-Toru'], dtype=object)"
      ]
     },
     "execution_count": 27,
     "metadata": {},
     "output_type": "execute_result"
    }
   ],
   "source": [
    "train.State.unique()"
   ]
  },
  {
   "cell_type": "code",
   "execution_count": 28,
   "metadata": {},
   "outputs": [],
   "source": [
    "train['State'] = train['State'].replace({'Abuja-Municipal':'Abuja','Oshodi-Isolo':'Lagos','Ibeju-Lekki':'Lagos','Ibadan-West':'Ibadan','Eti-Osa':'Lagos'\n",
    "                                        ,'Obia-Akpor':'Awka-Ibom','Ibadan-East':'Oyo','Amuwo-Odofin':'Lagos','ENUGU-EAST':'Enugu','Esan-West':'Edo'\n",
    "                                         ,'Obafemi-Owode':'Ogun','Orile-Iganmu':'Lagos', 'Ifako-Ijaye':'Lagos', 'Ibadan-North':'Oyo',\n",
    "                                         'Jos-North':'Plateau'\n",
    "                                        , 'Ondo-West':'Ondo', 'Kaduna-North':'Kaduna','Aniocha-South':'Delta','Ile-Oluji':'Ondo','Nnewi-North':'Anambra'\n",
    "                                        ,'Aboh-Mbaise':'Imo', 'Akoko-West':'Ondo','Warri-Central':'Edo', 'Jos-South':'Plateus','Onitsha-North':'Anambra'\n",
    "                                        , 'Ajeromi-Ifelodun':'Osun', 'Kano-Municipal':'Kano','Ife-Central':'Osun','Ilorin-West':'Kwara'\n",
    "                                         ,'Lagelu-North':'Oyo', 'Owerri-Municipal':'Imo','Nsit-Ubium':'Awka-Ibom', 'Udi-Agwu':'Enugu',\n",
    "                                         'Owerri-West':'Imo'\n",
    "                                         ,'Ogbmosho-South':'Oyo', 'Umuahia-South':'Abia','Ajegunle-State':'Lagos','Ekiti-West':'Ekiti',\n",
    "                                         'Ogun-Waterside':'Ogun'\n",
    "                                        ,'Awka-North':'Anambra','ABULE-EGBA':'Lagos','Ife-North':'Osun', 'Anambra-East':'Anambra', 'Etsako-West':'Edo'\n",
    "                                         ,'Aba-North':'Abia','Ibarapa-Central':'Oyo', 'Idemili-North':'Anambra', 'Ogba-Ndoni':'Rivers', \n",
    "                                         'Calabar-Municipality':'Cross-River','AJAO-ESTATE':'Lagos','Ekiti-East':'Ekiti',\n",
    "                                         'Ovia-SouthWest':'Edo','Essien-Udim':'Akwa-Ibom',\n",
    "                                         'Ado-Ota':'Ogun', 'Oyo-East':'Oyo', 'Ilorin-East':'Kwara', 'Ilesha-West':'Osun', 'Central-Abuja':'Abuja',\n",
    "                                         'Owerri-North':'Imo','Ilesha-East':'Osun', 'Awka-South':'Delta','Enugu-North':'Enugu','Ibadan':'Oyo',\n",
    "                                         'Esan-Central':'Edo', 'Isoko-south':'Delta', 'Ethiope-East':'Delta','Ijebu-Ode':'Ogun'\n",
    "                                         ,'QuaAn-Pan':'Plateus', 'Warri-North':'Delta', 'Ado-Ekiti':'Ekiti', 'Ijebu-East':'Ogun',\n",
    "                                         'Onitsha-South':'Anambra', 'Ughelli-North':'Delta', 'Warri-South':'Delta', 'Kaduna-South':'Kaduna',\n",
    "                                         'Port-Harcourt':'Rivers',\n",
    "      \n",
    "                                         'Oyo-West':'Oyo', 'Aba-South':'Abia', 'Isoko-North':'Delta', 'Oshimili-North':'Delta',\n",
    "                                         'Ndokwa-East':'Delta', 'Nnewi-South':'Anambra', 'ENUGU-SOUTH':'Enugu', 'Ijebu-North':'Ogun',\n",
    "                                         'Asari-Toru':'Rivers'})"
   ]
  },
  {
   "cell_type": "code",
   "execution_count": 29,
   "metadata": {},
   "outputs": [],
   "source": [
    "train.State.fillna('N-A',inplace =True)\n",
    "test.State.fillna('N-A',inplace =True)"
   ]
  },
  {
   "cell_type": "code",
   "execution_count": 30,
   "metadata": {},
   "outputs": [
    {
     "data": {
      "text/plain": [
       "array(['Lagos', 'Abuja-Municipal', 'Benue', 'Abuja', 'N-A', 'Eti-Osa',\n",
       "       'Obia-Akpor', 'Amuwo-Odofin', 'Jos-North', 'Kwara', 'Oyo',\n",
       "       'Ijebu-Ode', 'Rivers', 'Edo', 'Oshodi-Isolo', 'Osun',\n",
       "       'Kaduna-North', 'Ibarapa-Central', 'Warri-Central', 'Delta',\n",
       "       'Kaduna', 'Ado-Ota', 'Ibadan-West', 'Lagelu-North', 'Ifako-Ijaye',\n",
       "       'Ibeju-Lekki', 'Anambra', 'Ibadan-East', 'Enugu-North',\n",
       "       'ENUGU-EAST', 'Kogi', 'Ogun', 'Jos-South', 'Ondo', 'Ife-North',\n",
       "       'Akwa-Ibom', 'Ogbmosho-South', 'Warri-South', 'Anambra-East',\n",
       "       'Port-Harcourt', 'Kano-Municipal', 'Owerri-Municipal',\n",
       "       'Central-Abuja', 'Ile-Oluji', 'Ibadan-North', 'Imo',\n",
       "       'Ughelli-North', 'AJAO-ESTATE', 'Ndokwa-East', 'Onitsha-South',\n",
       "       'Ilorin-West', 'Ijebu-East', 'Aba-North', 'Aniocha-South',\n",
       "       'Nasarawa', 'Aboh-Mbaise', 'Gombe', 'Ife-Central', 'Abia',\n",
       "       'Niger-State', 'Ethiope-East', 'Ogun-Waterside', 'Cross-River',\n",
       "       'Kaduna-South', 'Owerri-North', 'Esan-West', 'Nnewi-North',\n",
       "       'Oshimili-North', 'Obafemi-Owode', 'Kano', 'Ilesha-West',\n",
       "       'Calabar-Municipality', 'Onitsha-North', 'Idemili-south',\n",
       "       'Awka-South', 'Ekiti-East', 'Umuahia-South', 'Nsit-Ubium',\n",
       "       'Orile-Iganmu', 'Aba-South', 'Ngor-Okpala', 'Ovia-SouthWest'],\n",
       "      dtype=object)"
      ]
     },
     "execution_count": 30,
     "metadata": {},
     "output_type": "execute_result"
    }
   ],
   "source": [
    "test.State.unique()"
   ]
  },
  {
   "cell_type": "code",
   "execution_count": null,
   "metadata": {},
   "outputs": [],
   "source": []
  },
  {
   "cell_type": "code",
   "execution_count": 31,
   "metadata": {},
   "outputs": [],
   "source": [
    "test['State'] = test['State'].replace({'Abuja-Municipal':'Abuja','Oshodi-Isolo':'Lagos','Ibeju-Lekki':'Lagos','Ibadan-West':'Ibadan','Eti-Osa':'Lagos'\n",
    "                                        ,'Obia-Akpor':'Awka-Ibom','Ibadan-East':'Oyo','Amuwo-Odofin':'Lagos','ENUGU-EAST':'Enugu','Esan-West':'Edo'\n",
    "                                         ,'Obafemi-Owode':'Ogun','Orile-Iganmu':'Lagos', 'Ifako-Ijaye':'Lagos', 'Ibadan-North':'Oyo',\n",
    "                                         'Jos-North':'Plateau'\n",
    "                                        , 'Ondo-West':'Ondo', 'Kaduna-North':'Kaduna','Aniocha-South':'Delta','Ile-Oluji':'Ondo','Nnewi-North':'Anambra'\n",
    "                                        ,'Aboh-Mbaise':'Imo', 'Akoko-West':'Ondo','Warri-Central':'Edo', 'Jos-South':'Plateus','Onitsha-North':'Anambra'\n",
    "                                        , 'Ajeromi-Ifelodun':'Osun', 'Kano-Municipal':'Kano','Ife-Central':'Osun','Ilorin-West':'Kwara'\n",
    "                                         ,'Lagelu-North':'Oyo', 'Owerri-Municipal':'Imo','Nsit-Ubium':'Awka-Ibom', 'Udi-Agwu':'Enugu',\n",
    "                                         'Owerri-West':'Imo'\n",
    "                                         ,'Ogbmosho-South':'Oyo', 'Umuahia-South':'Abia','Ajegunle-State':'Lagos','Ekiti-West':'Ekiti',\n",
    "                                         'Ogun-Waterside':'Ogun'\n",
    "                                        ,'Awka-North':'Anambra','ABULE-EGBA':'Lagos','Ife-North':'Osun', 'Anambra-East':'Anambra', 'Etsako-West':'Edo'\n",
    "                                         ,'Aba-North':'Abia','Ibarapa-Central':'Oyo', 'Idemili-North':'Anambra', 'Ogba-Ndoni':'Rivers', \n",
    "                                         'Calabar-Municipality':'Cross-River','AJAO-ESTATE':'Lagos','Ekiti-East':'Ekiti',\n",
    "                                         'Ovia-SouthWest':'Edo','Essien-Udim':'Awka-Ibom',\n",
    "                                         'Ado-Ota':'Ogun', 'Oyo-East':'Oyo', 'Ilorin-East':'Kwara', 'Ilesha-West':'Osun', 'Central-Abuja':'Abuja',\n",
    "                                         'Owerri-North':'Imo','Ilesha-East':'Osun', 'Awka-South':'Delta','Enugu-North':'Enugu','Ibadan':'Oyo',\n",
    "                                         'Esan-Central':'Edo', 'Isoko-south':'Delta', 'Ethiope-East':'Delta','Ijebu-Ode':'Ogun'\n",
    "                                         ,'QuaAn-Pan':'Plateus', 'Warri-North':'Delta', 'Ado-Ekiti':'Ekiti', 'Ijebu-East':'Ogun',\n",
    "                                         'Onitsha-South':'Anambra', 'Ughelli-North':'Delta', 'Warri-South':'Delta', 'Kaduna-South':'Kaduna',\n",
    "                                         'Port-Harcourt':'Rivers',\n",
    "      \n",
    "                                         'Oyo-West':'Oyo', 'Aba-South':'Abia', 'Isoko-North':'Delta', 'Oshimili-North':'Delta',\n",
    "                                         'Ndokwa-East':'Delta', 'Nnewi-South':'Anambra', 'ENUGU-SOUTH':'Enugu', 'Ijebu-North':'Ogun',\n",
    "                                         'Asari-Toru':'Rivers','Ngor-Okpala':'Imo','Idemili-Sorth':'Anambra'})"
   ]
  },
  {
   "cell_type": "code",
   "execution_count": 32,
   "metadata": {},
   "outputs": [
    {
     "data": {
      "text/plain": [
       "array(['TOYOTA', nan, 'REXTON', 'Lexus', 'Hyundai', 'Iveco', 'DAF',\n",
       "       'Honda', 'Mercedes', 'Jincheng', 'ACURA', 'Ford', 'Volkswagen',\n",
       "       'Nissan', '.', 'Pontiac', 'Range Rover', 'Kia', 'Mitsubishi',\n",
       "       'Scania', 'BMW', 'Infiniti', 'Renault', 'Volvo', 'Hummer', 'Mack',\n",
       "       'Grand Cherokee', 'Porsche', 'Peugeot', 'Land Rover', 'Chevrolet',\n",
       "       'Mazda', 'Man', 'Jeep', 'Audi', 'Suzuki', 'MINI COOPER', 'KA',\n",
       "       'As Attached', 'Innson', 'Isuzu', 'Skoda', 'Jaguar', 'Chrysler',\n",
       "       'Dodge', 'GMC', 'Land Rover.', 'Subaru', 'GAC', 'Fiat', 'Opel',\n",
       "       'Astra', 'Motorcycle', 'ZOYTE', 'Seat', 'FOTON', 'Howo', 'Lincoln',\n",
       "       'Rols Royce', 'CHANGAN', 'LIBERTY', 'ABG', 'Yamaha', 'Black',\n",
       "       'Tata', 'Ashok Leyland', 'Geely', 'Caddillac', 'Wrangler Jeep',\n",
       "       'Raston', 'MG', 'BRILLIANCE', 'Buik', 'COMMANDER', 'Bajaj'],\n",
       "      dtype=object)"
      ]
     },
     "execution_count": 32,
     "metadata": {},
     "output_type": "execute_result"
    }
   ],
   "source": [
    "train.Subject_Car_Make.unique()"
   ]
  },
  {
   "cell_type": "code",
   "execution_count": 33,
   "metadata": {},
   "outputs": [],
   "source": [
    " train['Subject_Car_Make']=train.Subject_Car_Make.replace({'ACURA':'Honda','Infiniti':'Nissan', 'Grand Cherokee':'Jeep',\n",
    "                                                           'Volkswagen':'Audi','KA':'Ford','Innson':'Innoson','Land Rover':'Jaguar',\n",
    "                                                          'Volkswagen':'Skoda','Land Rover.':'Jaguar','Fiat':'Chrysler',\n",
    "                                                           'Astra':'Opel'\n",
    "                                                          ,'Seat':'Volkswagen','Lincoln':'Ford','LIBERTY':'Jeep','Wrangler Jeep':'Jeep'\n",
    "                                                           ,'Buik':'GMC','COMMANDER':'Jeep','Datsun':'Nissan','.':'Unknown'})\n",
    "train.Subject_Car_Make.fillna('Unknown',inplace =True)"
   ]
  },
  {
   "cell_type": "code",
   "execution_count": 34,
   "metadata": {},
   "outputs": [
    {
     "data": {
      "text/plain": [
       "array(['Iveco', 'TOYOTA', 'Ford', nan, 'Honda', 'Hyundai', 'ACURA',\n",
       "       'Volkswagen', 'Nissan', 'Range Rover', 'Lexus', 'Mercedes', 'Kia',\n",
       "       'Chevrolet', '.', 'Skoda', 'Infiniti', 'Renault', 'Mazda',\n",
       "       'Mitsubishi', 'Suzuki', 'Peugeot', 'Mack', 'GMC', 'Land Rover',\n",
       "       'Dodge', 'As Attached', 'Chrysler', 'Jeep', 'Pontiac', 'BMW',\n",
       "       'Subaru', 'Volvo', 'MINI COOPER', 'Opel', 'DAF', 'MG',\n",
       "       'Wrangler Jeep', 'Audi', 'Innson', 'Scania', 'Porsche', 'LIBERTY',\n",
       "       'KA', 'Black', 'Datsun', 'Land Rover.', 'Isuzu', 'Hummer',\n",
       "       'Grand Cherokee', 'FOTON', 'Buik', 'Seat', 'Man'], dtype=object)"
      ]
     },
     "execution_count": 34,
     "metadata": {},
     "output_type": "execute_result"
    }
   ],
   "source": [
    "test.Subject_Car_Make.unique()"
   ]
  },
  {
   "cell_type": "code",
   "execution_count": 39,
   "metadata": {},
   "outputs": [],
   "source": [
    "test['Subject_Car_Make']=test.Subject_Car_Make.replace({'ACURA':'Honda','Infiniti':'Nissan', 'Grand Cherokee':'Jeep',\n",
    "                                                           'Volkswagen':'Audi','KA':'Ford','Innson':'Innoson','Land Rover':'Jaguar',\n",
    "                                                          'Volkswagen':'Skoda','Land Rover.':'Jaguar','Fiat':'Chrysler',\n",
    "                                                           'Astra':'Opel'\n",
    "                                                          ,'Seat':'Volkswagen','Lincoln':'Ford','LIBERTY':'Jeep','Wrangler Jeep':'Jeep'\n",
    "                                                           ,'Buik':'GMC','COMMANDER':'Jeep','Datsun':'Nissan','.':'Unknown'})\n",
    "test.Subject_Car_Make.fillna('Unknown',inplace=True)"
   ]
  },
  {
   "cell_type": "code",
   "execution_count": 40,
   "metadata": {},
   "outputs": [
    {
     "data": {
      "text/plain": [
       "Gender                            0.0\n",
       "Age                               0.0\n",
       "No_Pol                            0.0\n",
       "Car_Category                      0.0\n",
       "Subject_Car_Colour                0.0\n",
       "Subject_Car_Make                  0.0\n",
       "LGA_Name                          0.0\n",
       "State                             0.0\n",
       "ProductName                       0.0\n",
       "Policy Start Date_year            0.0\n",
       "Policy Start Date_day             0.0\n",
       "Policy Start Date_month           0.0\n",
       "Policy Start Date_quarter         0.0\n",
       "Policy End Date_year              0.0\n",
       "Policy End Date_day               0.0\n",
       "Policy End Date_month             0.0\n",
       "Policy End Date_quarter           0.0\n",
       "First Transaction Date_year       0.0\n",
       "First Transaction Date_day        0.0\n",
       "First Transaction Date_month      0.0\n",
       "First Transaction Date_quarter    0.0\n",
       "dtype: float64"
      ]
     },
     "execution_count": 40,
     "metadata": {},
     "output_type": "execute_result"
    }
   ],
   "source": [
    "train.isnull().sum()/len(train)* 100"
   ]
  },
  {
   "cell_type": "code",
   "execution_count": 41,
   "metadata": {},
   "outputs": [],
   "source": [
    "from sklearn.preprocessing import LabelEncoder\n",
    "le =LabelEncoder()\n",
    "train['Subject_Car_Make']=le.fit_transform(train['Subject_Car_Make'])\n",
    "train['LGA_Name']=le.fit_transform(train['LGA_Name'])\n",
    "train['State']=le.fit_transform(train['State'])\n",
    "train['ProductName']=le.fit_transform(train['ProductName'])\n",
    "train['Gender']=le.fit_transform(train['Gender'])\n",
    "train['No_Pol']=le.fit_transform(train['No_Pol'])\n",
    "train['Subject_Car_Colour']=le.fit_transform(train['Subject_Car_Colour'])\n",
    "train['Car_Category']=le.fit_transform(train['Car_Category'])"
   ]
  },
  {
   "cell_type": "code",
   "execution_count": 42,
   "metadata": {},
   "outputs": [
    {
     "name": "stdout",
     "output_type": "stream",
     "text": [
      "<class 'pandas.core.frame.DataFrame'>\n",
      "Index: 12079 entries, ID_0040R73 to ID_ZZWRIIE\n",
      "Data columns (total 21 columns):\n",
      " #   Column                          Non-Null Count  Dtype\n",
      "---  ------                          --------------  -----\n",
      " 0   Gender                          12079 non-null  int64\n",
      " 1   Age                             12079 non-null  int64\n",
      " 2   No_Pol                          12079 non-null  int64\n",
      " 3   Car_Category                    12079 non-null  int64\n",
      " 4   Subject_Car_Colour              12079 non-null  int64\n",
      " 5   Subject_Car_Make                12079 non-null  int64\n",
      " 6   LGA_Name                        12079 non-null  int64\n",
      " 7   State                           12079 non-null  int64\n",
      " 8   ProductName                     12079 non-null  int64\n",
      " 9   Policy Start Date_year          12079 non-null  int64\n",
      " 10  Policy Start Date_day           12079 non-null  int64\n",
      " 11  Policy Start Date_month         12079 non-null  int64\n",
      " 12  Policy Start Date_quarter       12079 non-null  int64\n",
      " 13  Policy End Date_year            12079 non-null  int64\n",
      " 14  Policy End Date_day             12079 non-null  int64\n",
      " 15  Policy End Date_month           12079 non-null  int64\n",
      " 16  Policy End Date_quarter         12079 non-null  int64\n",
      " 17  First Transaction Date_year     12079 non-null  int64\n",
      " 18  First Transaction Date_day      12079 non-null  int64\n",
      " 19  First Transaction Date_month    12079 non-null  int64\n",
      " 20  First Transaction Date_quarter  12079 non-null  int64\n",
      "dtypes: int64(21)\n",
      "memory usage: 2.0+ MB\n"
     ]
    }
   ],
   "source": [
    "train.info()"
   ]
  },
  {
   "cell_type": "code",
   "execution_count": 43,
   "metadata": {},
   "outputs": [],
   "source": [
    "test['Subject_Car_Make']=le.fit_transform(test['Subject_Car_Make'])\n",
    "test['LGA_Name']=le.fit_transform(test['LGA_Name'])\n",
    "test['State']=le.fit_transform(test['State'])\n",
    "test['ProductName']=le.fit_transform(test['ProductName'])\n",
    "test['Gender']=le.fit_transform(test['Gender'])\n",
    "test['No_Pol']=le.fit_transform(test['No_Pol'])\n",
    "test['Subject_Car_Colour']=le.fit_transform(test['Subject_Car_Colour'])\n",
    "test['Car_Category']=le.fit_transform(test['Car_Category'])"
   ]
  },
  {
   "cell_type": "code",
   "execution_count": 44,
   "metadata": {},
   "outputs": [
    {
     "data": {
      "text/plain": [
       "(5177, 21)"
      ]
     },
     "execution_count": 44,
     "metadata": {},
     "output_type": "execute_result"
    }
   ],
   "source": [
    "test.shape"
   ]
  },
  {
   "cell_type": "code",
   "execution_count": 37,
   "metadata": {},
   "outputs": [
    {
     "name": "stdout",
     "output_type": "stream",
     "text": [
      "<class 'pandas.core.frame.DataFrame'>\n",
      "Index: 5177 entries, ID_009D84L to ID_ZZYTLV1\n",
      "Data columns (total 21 columns):\n",
      " #   Column                          Non-Null Count  Dtype\n",
      "---  ------                          --------------  -----\n",
      " 0   Gender                          5177 non-null   int32\n",
      " 1   Age                             5177 non-null   int64\n",
      " 2   No_Pol                          5177 non-null   int64\n",
      " 3   Car_Category                    5177 non-null   int32\n",
      " 4   Subject_Car_Colour              5177 non-null   int32\n",
      " 5   Subject_Car_Make                5177 non-null   int32\n",
      " 6   LGA_Name                        5177 non-null   int32\n",
      " 7   State                           5177 non-null   int32\n",
      " 8   ProductName                     5177 non-null   int32\n",
      " 9   Policy Start Date_year          5177 non-null   int64\n",
      " 10  Policy Start Date_day           5177 non-null   int64\n",
      " 11  Policy Start Date_month         5177 non-null   int64\n",
      " 12  Policy Start Date_quarter       5177 non-null   int64\n",
      " 13  Policy End Date_year            5177 non-null   int64\n",
      " 14  Policy End Date_day             5177 non-null   int64\n",
      " 15  Policy End Date_month           5177 non-null   int64\n",
      " 16  Policy End Date_quarter         5177 non-null   int64\n",
      " 17  First Transaction Date_year     5177 non-null   int64\n",
      " 18  First Transaction Date_day      5177 non-null   int64\n",
      " 19  First Transaction Date_month    5177 non-null   int64\n",
      " 20  First Transaction Date_quarter  5177 non-null   int64\n",
      "dtypes: int32(7), int64(14)\n",
      "memory usage: 748.2+ KB\n"
     ]
    }
   ],
   "source": [
    "test.info()\n"
   ]
  },
  {
   "cell_type": "code",
   "execution_count": null,
   "metadata": {},
   "outputs": [],
   "source": []
  },
  {
   "cell_type": "code",
   "execution_count": 45,
   "metadata": {},
   "outputs": [
    {
     "name": "stdout",
     "output_type": "stream",
     "text": [
      "<class 'pandas.core.frame.DataFrame'>\n",
      "Index: 12079 entries, ID_0040R73 to ID_ZZWRIIE\n",
      "Data columns (total 21 columns):\n",
      " #   Column                          Non-Null Count  Dtype\n",
      "---  ------                          --------------  -----\n",
      " 0   Gender                          12079 non-null  int64\n",
      " 1   Age                             12079 non-null  int64\n",
      " 2   No_Pol                          12079 non-null  int64\n",
      " 3   Car_Category                    12079 non-null  int64\n",
      " 4   Subject_Car_Colour              12079 non-null  int64\n",
      " 5   Subject_Car_Make                12079 non-null  int64\n",
      " 6   LGA_Name                        12079 non-null  int64\n",
      " 7   State                           12079 non-null  int64\n",
      " 8   ProductName                     12079 non-null  int64\n",
      " 9   Policy Start Date_year          12079 non-null  int64\n",
      " 10  Policy Start Date_day           12079 non-null  int64\n",
      " 11  Policy Start Date_month         12079 non-null  int64\n",
      " 12  Policy Start Date_quarter       12079 non-null  int64\n",
      " 13  Policy End Date_year            12079 non-null  int64\n",
      " 14  Policy End Date_day             12079 non-null  int64\n",
      " 15  Policy End Date_month           12079 non-null  int64\n",
      " 16  Policy End Date_quarter         12079 non-null  int64\n",
      " 17  First Transaction Date_year     12079 non-null  int64\n",
      " 18  First Transaction Date_day      12079 non-null  int64\n",
      " 19  First Transaction Date_month    12079 non-null  int64\n",
      " 20  First Transaction Date_quarter  12079 non-null  int64\n",
      "dtypes: int64(21)\n",
      "memory usage: 2.0+ MB\n"
     ]
    }
   ],
   "source": [
    "train.info()"
   ]
  },
  {
   "cell_type": "code",
   "execution_count": 46,
   "metadata": {},
   "outputs": [],
   "source": [
    "X = train\n"
   ]
  },
  {
   "cell_type": "code",
   "execution_count": 49,
   "metadata": {},
   "outputs": [],
   "source": [
    " test_new=test"
   ]
  },
  {
   "cell_type": "code",
   "execution_count": 50,
   "metadata": {},
   "outputs": [
    {
     "name": "stdout",
     "output_type": "stream",
     "text": [
      "<class 'pandas.core.frame.DataFrame'>\n",
      "Index: 12079 entries, ID_0040R73 to ID_ZZWRIIE\n",
      "Data columns (total 21 columns):\n",
      " #   Column                          Non-Null Count  Dtype\n",
      "---  ------                          --------------  -----\n",
      " 0   Gender                          12079 non-null  int64\n",
      " 1   Age                             12079 non-null  int64\n",
      " 2   No_Pol                          12079 non-null  int64\n",
      " 3   Car_Category                    12079 non-null  int64\n",
      " 4   Subject_Car_Colour              12079 non-null  int64\n",
      " 5   Subject_Car_Make                12079 non-null  int64\n",
      " 6   LGA_Name                        12079 non-null  int64\n",
      " 7   State                           12079 non-null  int64\n",
      " 8   ProductName                     12079 non-null  int64\n",
      " 9   Policy Start Date_year          12079 non-null  int64\n",
      " 10  Policy Start Date_day           12079 non-null  int64\n",
      " 11  Policy Start Date_month         12079 non-null  int64\n",
      " 12  Policy Start Date_quarter       12079 non-null  int64\n",
      " 13  Policy End Date_year            12079 non-null  int64\n",
      " 14  Policy End Date_day             12079 non-null  int64\n",
      " 15  Policy End Date_month           12079 non-null  int64\n",
      " 16  Policy End Date_quarter         12079 non-null  int64\n",
      " 17  First Transaction Date_year     12079 non-null  int64\n",
      " 18  First Transaction Date_day      12079 non-null  int64\n",
      " 19  First Transaction Date_month    12079 non-null  int64\n",
      " 20  First Transaction Date_quarter  12079 non-null  int64\n",
      "dtypes: int64(21)\n",
      "memory usage: 2.0+ MB\n"
     ]
    }
   ],
   "source": [
    "X.info()"
   ]
  },
  {
   "cell_type": "code",
   "execution_count": 51,
   "metadata": {},
   "outputs": [],
   "source": [
    "from catboost import CatBoostClassifier\n",
    "from sklearn.ensemble import RandomForestClassifier\n",
    "from sklearn.metrics import f1_score\n",
    "from sklearn.model_selection import StratifiedKFold"
   ]
  },
  {
   "cell_type": "code",
   "execution_count": 51,
   "metadata": {},
   "outputs": [
    {
     "ename": "AttributeError",
     "evalue": "'numpy.ndarray' object has no attribute 'info'",
     "output_type": "error",
     "traceback": [
      "\u001b[1;31m---------------------------------------------------------------------------\u001b[0m",
      "\u001b[1;31mAttributeError\u001b[0m                            Traceback (most recent call last)",
      "\u001b[1;32m<ipython-input-51-a72a0779be47>\u001b[0m in \u001b[0;36m<module>\u001b[1;34m\u001b[0m\n\u001b[1;32m----> 1\u001b[1;33m \u001b[0mtest\u001b[0m\u001b[1;33m.\u001b[0m\u001b[0minfo\u001b[0m\u001b[1;33m(\u001b[0m\u001b[1;33m)\u001b[0m\u001b[1;33m\u001b[0m\u001b[1;33m\u001b[0m\u001b[0m\n\u001b[0m",
      "\u001b[1;31mAttributeError\u001b[0m: 'numpy.ndarray' object has no attribute 'info'"
     ]
    }
   ],
   "source": [
    "test.info()"
   ]
  },
  {
   "cell_type": "code",
   "execution_count": 1,
   "metadata": {},
   "outputs": [
    {
     "ename": "NameError",
     "evalue": "name 'X' is not defined",
     "output_type": "error",
     "traceback": [
      "\u001b[1;31m---------------------------------------------------------------------------\u001b[0m",
      "\u001b[1;31mNameError\u001b[0m                                 Traceback (most recent call last)",
      "\u001b[1;32m<ipython-input-1-bc5f1a0adac8>\u001b[0m in \u001b[0;36m<module>\u001b[1;34m\u001b[0m\n\u001b[1;32m----> 1\u001b[1;33m \u001b[0mX\u001b[0m\u001b[1;33m.\u001b[0m\u001b[0mshape\u001b[0m\u001b[1;33m\u001b[0m\u001b[1;33m\u001b[0m\u001b[0m\n\u001b[0m",
      "\u001b[1;31mNameError\u001b[0m: name 'X' is not defined"
     ]
    }
   ],
   "source": [
    "X.shape"
   ]
  },
  {
   "cell_type": "code",
   "execution_count": 2,
   "metadata": {},
   "outputs": [
    {
     "ename": "NameError",
     "evalue": "name 'test' is not defined",
     "output_type": "error",
     "traceback": [
      "\u001b[1;31m---------------------------------------------------------------------------\u001b[0m",
      "\u001b[1;31mNameError\u001b[0m                                 Traceback (most recent call last)",
      "\u001b[1;32m<ipython-input-2-8ae592785626>\u001b[0m in \u001b[0;36m<module>\u001b[1;34m\u001b[0m\n\u001b[1;32m----> 1\u001b[1;33m \u001b[0mtest\u001b[0m\u001b[1;33m.\u001b[0m\u001b[0mshape\u001b[0m\u001b[1;33m\u001b[0m\u001b[1;33m\u001b[0m\u001b[0m\n\u001b[0m",
      "\u001b[1;31mNameError\u001b[0m: name 'test' is not defined"
     ]
    }
   ],
   "source": [
    "test.shape"
   ]
  },
  {
   "cell_type": "code",
   "execution_count": 52,
   "metadata": {},
   "outputs": [
    {
     "name": "stdout",
     "output_type": "stream",
     "text": [
      "Number of splits trained 1 \n",
      "Number of splits trained 2 \n",
      "Number of splits trained 3 \n",
      "Number of splits trained 4 \n",
      "Number of splits trained 5 \n",
      "Number of splits trained 6 \n",
      "Number of splits trained 7 \n",
      "Number of splits trained 8 \n",
      "Number of splits trained 9 \n",
      "Number of splits trained 10 \n",
      "Number of splits trained 11 \n",
      "Number of splits trained 12 \n",
      "Number of splits trained 13 \n",
      "Number of splits trained 14 \n",
      "Number of splits trained 15 \n",
      "Number of splits trained 16 \n",
      "Number of splits trained 17 \n",
      "Number of splits trained 18 \n",
      "Number of splits trained 19 \n",
      "Number of splits trained 20 \n",
      "Number of splits trained 21 \n",
      "Number of splits trained 22 \n",
      "Number of splits trained 23 \n",
      "Number of splits trained 24 \n",
      "Number of splits trained 25 \n"
     ]
    },
    {
     "data": {
      "text/plain": [
       "0.1786996703062525"
      ]
     },
     "execution_count": 52,
     "metadata": {},
     "output_type": "execute_result"
    }
   ],
   "source": [
    "seed = 34890\n",
    "skf = StratifiedKFold(n_splits=25, shuffle=True, random_state=seed)\n",
    "scores = []\n",
    "preds = []\n",
    "rforest = RandomForestClassifier(n_jobs=-1,random_state =seed, n_estimators=500)\n",
    "#creating a for loop for the stratified k fold\n",
    "i = 1\n",
    "for train, test in skf.split(X, y):\n",
    "    x_train, x_test, y_train, y_test = X.iloc[train], X.iloc[test], y.iloc[train], y.iloc[test]\n",
    "    rforest.fit(x_train, y_train)\n",
    "    print('Number of splits trained {} '.format(i))\n",
    "    score = f1_score(y_test, rforest.predict(x_test))\n",
    "    pred = rforest.predict_proba(test_new)[:, 1]\n",
    "    scores.append(score)\n",
    "    preds.append(pred)\n",
    "    i += 1\n",
    "\n",
    "np.mean(scores)"
   ]
  },
  {
   "cell_type": "code",
   "execution_count": 57,
   "metadata": {},
   "outputs": [],
   "source": [
    "preds_mean = np.mean(preds, axis=0)\n",
    "\n",
    "final = []\n",
    "for x in preds_mean:\n",
    "    if x > 0.3:\n",
    "        final.append(1)\n",
    "    else:\n",
    "        final.append(0)\n",
    "        \n",
    "submit = ss.copy()\n",
    "submit.target = final\n",
    "submit.to_csv('Baseline.csv',index=False)"
   ]
  },
  {
   "cell_type": "code",
   "execution_count": null,
   "metadata": {},
   "outputs": [],
   "source": []
  }
 ],
 "metadata": {
  "kernelspec": {
   "display_name": "Python 3",
   "language": "python",
   "name": "python3"
  },
  "language_info": {
   "codemirror_mode": {
    "name": "ipython",
    "version": 3
   },
   "file_extension": ".py",
   "mimetype": "text/x-python",
   "name": "python",
   "nbconvert_exporter": "python",
   "pygments_lexer": "ipython3",
   "version": "3.7.4"
  }
 },
 "nbformat": 4,
 "nbformat_minor": 2
}
