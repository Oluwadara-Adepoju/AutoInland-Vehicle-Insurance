{
 "cells": [
  {
   "cell_type": "code",
   "execution_count": 1,
   "metadata": {},
   "outputs": [],
   "source": [
    "import pandas as pd\n",
    "import numpy as np\n",
    "import datetime as dt\n",
    "from tqdm.notebook import tqdm_notebook\n",
    "import seaborn as sns\n",
    "import matplotlib.pyplot as plt\n",
    "from sklearn.metrics import f1_score\n",
    "from lightgbm import LGBMClassifier\n",
    "from sklearn.model_selection import train_test_split\n",
    "import warnings\n",
    "warnings.filterwarnings('ignore')"
   ]
  },
  {
   "cell_type": "code",
   "execution_count": 2,
   "metadata": {},
   "outputs": [
    {
     "data": {
      "text/html": [
       "<div>\n",
       "<style scoped>\n",
       "    .dataframe tbody tr th:only-of-type {\n",
       "        vertical-align: middle;\n",
       "    }\n",
       "\n",
       "    .dataframe tbody tr th {\n",
       "        vertical-align: top;\n",
       "    }\n",
       "\n",
       "    .dataframe thead th {\n",
       "        text-align: right;\n",
       "    }\n",
       "</style>\n",
       "<table border=\"1\" class=\"dataframe\">\n",
       "  <thead>\n",
       "    <tr style=\"text-align: right;\">\n",
       "      <th></th>\n",
       "      <th>ID</th>\n",
       "      <th>Policy Start Date</th>\n",
       "      <th>Policy End Date</th>\n",
       "      <th>Gender</th>\n",
       "      <th>Age</th>\n",
       "      <th>First Transaction Date</th>\n",
       "      <th>No_Pol</th>\n",
       "      <th>Car_Category</th>\n",
       "      <th>Subject_Car_Colour</th>\n",
       "      <th>Subject_Car_Make</th>\n",
       "      <th>LGA_Name</th>\n",
       "      <th>State</th>\n",
       "      <th>ProductName</th>\n",
       "      <th>target</th>\n",
       "    </tr>\n",
       "  </thead>\n",
       "  <tbody>\n",
       "    <tr>\n",
       "      <th>0</th>\n",
       "      <td>ID_0040R73</td>\n",
       "      <td>2010-05-14</td>\n",
       "      <td>2011-05-13</td>\n",
       "      <td>Male</td>\n",
       "      <td>30</td>\n",
       "      <td>2010-05-14</td>\n",
       "      <td>1</td>\n",
       "      <td>Saloon</td>\n",
       "      <td>Black</td>\n",
       "      <td>TOYOTA</td>\n",
       "      <td>NaN</td>\n",
       "      <td>NaN</td>\n",
       "      <td>Car Classic</td>\n",
       "      <td>0</td>\n",
       "    </tr>\n",
       "    <tr>\n",
       "      <th>1</th>\n",
       "      <td>ID_0046BNK</td>\n",
       "      <td>2010-11-29</td>\n",
       "      <td>2011-11-28</td>\n",
       "      <td>Female</td>\n",
       "      <td>79</td>\n",
       "      <td>2010-11-29</td>\n",
       "      <td>1</td>\n",
       "      <td>JEEP</td>\n",
       "      <td>Grey</td>\n",
       "      <td>TOYOTA</td>\n",
       "      <td>NaN</td>\n",
       "      <td>NaN</td>\n",
       "      <td>Car Classic</td>\n",
       "      <td>1</td>\n",
       "    </tr>\n",
       "    <tr>\n",
       "      <th>2</th>\n",
       "      <td>ID_005QMC3</td>\n",
       "      <td>2010-03-21</td>\n",
       "      <td>2011-03-20</td>\n",
       "      <td>Male</td>\n",
       "      <td>43</td>\n",
       "      <td>2010-03-21</td>\n",
       "      <td>1</td>\n",
       "      <td>Saloon</td>\n",
       "      <td>Red</td>\n",
       "      <td>TOYOTA</td>\n",
       "      <td>NaN</td>\n",
       "      <td>NaN</td>\n",
       "      <td>Car Classic</td>\n",
       "      <td>0</td>\n",
       "    </tr>\n",
       "    <tr>\n",
       "      <th>3</th>\n",
       "      <td>ID_0079OHW</td>\n",
       "      <td>2010-08-21</td>\n",
       "      <td>2011-08-20</td>\n",
       "      <td>Male</td>\n",
       "      <td>2</td>\n",
       "      <td>2010-08-21</td>\n",
       "      <td>1</td>\n",
       "      <td>NaN</td>\n",
       "      <td>NaN</td>\n",
       "      <td>NaN</td>\n",
       "      <td>NaN</td>\n",
       "      <td>NaN</td>\n",
       "      <td>CarSafe</td>\n",
       "      <td>0</td>\n",
       "    </tr>\n",
       "    <tr>\n",
       "      <th>4</th>\n",
       "      <td>ID_00BRP63</td>\n",
       "      <td>2010-08-29</td>\n",
       "      <td>2010-12-31</td>\n",
       "      <td>Entity</td>\n",
       "      <td>20</td>\n",
       "      <td>2010-08-29</td>\n",
       "      <td>3</td>\n",
       "      <td>NaN</td>\n",
       "      <td>NaN</td>\n",
       "      <td>NaN</td>\n",
       "      <td>Lagos</td>\n",
       "      <td>Lagos</td>\n",
       "      <td>Muuve</td>\n",
       "      <td>1</td>\n",
       "    </tr>\n",
       "  </tbody>\n",
       "</table>\n",
       "</div>"
      ],
      "text/plain": [
       "           ID Policy Start Date Policy End Date  Gender  Age  \\\n",
       "0  ID_0040R73        2010-05-14      2011-05-13    Male   30   \n",
       "1  ID_0046BNK        2010-11-29      2011-11-28  Female   79   \n",
       "2  ID_005QMC3        2010-03-21      2011-03-20    Male   43   \n",
       "3  ID_0079OHW        2010-08-21      2011-08-20    Male    2   \n",
       "4  ID_00BRP63        2010-08-29      2010-12-31  Entity   20   \n",
       "\n",
       "  First Transaction Date  No_Pol Car_Category Subject_Car_Colour  \\\n",
       "0             2010-05-14       1       Saloon              Black   \n",
       "1             2010-11-29       1         JEEP               Grey   \n",
       "2             2010-03-21       1       Saloon                Red   \n",
       "3             2010-08-21       1          NaN                NaN   \n",
       "4             2010-08-29       3          NaN                NaN   \n",
       "\n",
       "  Subject_Car_Make LGA_Name  State  ProductName  target  \n",
       "0           TOYOTA      NaN    NaN  Car Classic       0  \n",
       "1           TOYOTA      NaN    NaN  Car Classic       1  \n",
       "2           TOYOTA      NaN    NaN  Car Classic       0  \n",
       "3              NaN      NaN    NaN      CarSafe       0  \n",
       "4              NaN    Lagos  Lagos        Muuve       1  "
      ]
     },
     "execution_count": 2,
     "metadata": {},
     "output_type": "execute_result"
    }
   ],
   "source": [
    "train = pd.read_csv('Train (2).csv',parse_dates=['Policy Start Date','Policy End Date','First Transaction Date'])\n",
    "test = pd.read_csv('Test (1).csv',parse_dates=['Policy Start Date','Policy End Date','First Transaction Date'])\n",
    "ss = pd.read_csv('SampleSubmission (1).csv')\n",
    "nig = pd.read_csv('NigerianStateNames.csv')\n",
    "train.head()"
   ]
  },
  {
   "cell_type": "code",
   "execution_count": 3,
   "metadata": {},
   "outputs": [
    {
     "data": {
      "text/html": [
       "<div>\n",
       "<style scoped>\n",
       "    .dataframe tbody tr th:only-of-type {\n",
       "        vertical-align: middle;\n",
       "    }\n",
       "\n",
       "    .dataframe tbody tr th {\n",
       "        vertical-align: top;\n",
       "    }\n",
       "\n",
       "    .dataframe thead th {\n",
       "        text-align: right;\n",
       "    }\n",
       "</style>\n",
       "<table border=\"1\" class=\"dataframe\">\n",
       "  <thead>\n",
       "    <tr style=\"text-align: right;\">\n",
       "      <th></th>\n",
       "      <th>LGA</th>\n",
       "      <th>State</th>\n",
       "    </tr>\n",
       "  </thead>\n",
       "  <tbody>\n",
       "    <tr>\n",
       "      <th>0</th>\n",
       "      <td>Abadam</td>\n",
       "      <td>Borno State</td>\n",
       "    </tr>\n",
       "    <tr>\n",
       "      <th>1</th>\n",
       "      <td>Abaji</td>\n",
       "      <td>Federal Capital Territory</td>\n",
       "    </tr>\n",
       "    <tr>\n",
       "      <th>2</th>\n",
       "      <td>Abak</td>\n",
       "      <td>Akwa Ibom State</td>\n",
       "    </tr>\n",
       "    <tr>\n",
       "      <th>3</th>\n",
       "      <td>Abakaliki</td>\n",
       "      <td>Ebonyi State</td>\n",
       "    </tr>\n",
       "    <tr>\n",
       "      <th>4</th>\n",
       "      <td>Aba-North</td>\n",
       "      <td>Abia State</td>\n",
       "    </tr>\n",
       "  </tbody>\n",
       "</table>\n",
       "</div>"
      ],
      "text/plain": [
       "         LGA                      State\n",
       "0     Abadam                Borno State\n",
       "1      Abaji  Federal Capital Territory\n",
       "2       Abak            Akwa Ibom State\n",
       "3  Abakaliki               Ebonyi State\n",
       "4  Aba-North                 Abia State"
      ]
     },
     "execution_count": 3,
     "metadata": {},
     "output_type": "execute_result"
    }
   ],
   "source": [
    "nig.head()"
   ]
  },
  {
   "cell_type": "code",
   "execution_count": 4,
   "metadata": {},
   "outputs": [
    {
     "data": {
      "text/plain": [
       "Lagos              3186\n",
       "Benue               626\n",
       "Abuja-Municipal     232\n",
       "Eti-Osa             217\n",
       "Ibeju-Lekki         123\n",
       "                   ... \n",
       "N-A                   1\n",
       "Nnewi-South           1\n",
       "Oyo-West              1\n",
       "Ijebu-East            1\n",
       "Nasarawa              1\n",
       "Name: State, Length: 111, dtype: int64"
      ]
     },
     "execution_count": 4,
     "metadata": {},
     "output_type": "execute_result"
    }
   ],
   "source": [
    "train.State.value_counts()"
   ]
  },
  {
   "cell_type": "code",
   "execution_count": 5,
   "metadata": {},
   "outputs": [
    {
     "data": {
      "text/html": [
       "<div>\n",
       "<style scoped>\n",
       "    .dataframe tbody tr th:only-of-type {\n",
       "        vertical-align: middle;\n",
       "    }\n",
       "\n",
       "    .dataframe tbody tr th {\n",
       "        vertical-align: top;\n",
       "    }\n",
       "\n",
       "    .dataframe thead th {\n",
       "        text-align: right;\n",
       "    }\n",
       "</style>\n",
       "<table border=\"1\" class=\"dataframe\">\n",
       "  <thead>\n",
       "    <tr style=\"text-align: right;\">\n",
       "      <th></th>\n",
       "      <th>ID</th>\n",
       "      <th>Policy Start Date</th>\n",
       "      <th>Policy End Date</th>\n",
       "      <th>Gender</th>\n",
       "      <th>Age</th>\n",
       "      <th>First Transaction Date</th>\n",
       "      <th>No_Pol</th>\n",
       "      <th>Car_Category</th>\n",
       "      <th>Subject_Car_Colour</th>\n",
       "      <th>Subject_Car_Make</th>\n",
       "      <th>LGA_Name</th>\n",
       "      <th>State</th>\n",
       "      <th>ProductName</th>\n",
       "      <th>target</th>\n",
       "    </tr>\n",
       "  </thead>\n",
       "  <tbody>\n",
       "    <tr>\n",
       "      <th>8</th>\n",
       "      <td>ID_00N7XT1</td>\n",
       "      <td>2010-07-06</td>\n",
       "      <td>2011-07-05</td>\n",
       "      <td>Female</td>\n",
       "      <td>71</td>\n",
       "      <td>2010-07-06</td>\n",
       "      <td>2</td>\n",
       "      <td>JEEP</td>\n",
       "      <td>Black</td>\n",
       "      <td>REXTON</td>\n",
       "      <td>Badagry</td>\n",
       "      <td>Benue</td>\n",
       "      <td>Car Classic</td>\n",
       "      <td>0</td>\n",
       "    </tr>\n",
       "    <tr>\n",
       "      <th>26</th>\n",
       "      <td>ID_02DJWEN</td>\n",
       "      <td>2010-01-23</td>\n",
       "      <td>2011-01-16</td>\n",
       "      <td>Male</td>\n",
       "      <td>41</td>\n",
       "      <td>2010-01-23</td>\n",
       "      <td>1</td>\n",
       "      <td>Saloon</td>\n",
       "      <td>Silver</td>\n",
       "      <td>TOYOTA</td>\n",
       "      <td>Yaba</td>\n",
       "      <td>Benue</td>\n",
       "      <td>Car Classic</td>\n",
       "      <td>0</td>\n",
       "    </tr>\n",
       "    <tr>\n",
       "      <th>29</th>\n",
       "      <td>ID_02O5FDM</td>\n",
       "      <td>2010-02-10</td>\n",
       "      <td>2011-02-09</td>\n",
       "      <td>Joint Gender</td>\n",
       "      <td>20</td>\n",
       "      <td>2010-02-10</td>\n",
       "      <td>1</td>\n",
       "      <td>NaN</td>\n",
       "      <td>As Attached</td>\n",
       "      <td>TOYOTA</td>\n",
       "      <td>Aguda</td>\n",
       "      <td>Benue</td>\n",
       "      <td>Car Classic</td>\n",
       "      <td>0</td>\n",
       "    </tr>\n",
       "    <tr>\n",
       "      <th>46</th>\n",
       "      <td>ID_04JEN82</td>\n",
       "      <td>2010-03-08</td>\n",
       "      <td>2011-02-09</td>\n",
       "      <td>Male</td>\n",
       "      <td>41</td>\n",
       "      <td>2010-03-08</td>\n",
       "      <td>2</td>\n",
       "      <td>Saloon</td>\n",
       "      <td>Silver</td>\n",
       "      <td>TOYOTA</td>\n",
       "      <td>IbadanCentral</td>\n",
       "      <td>Benue</td>\n",
       "      <td>Car Plus</td>\n",
       "      <td>0</td>\n",
       "    </tr>\n",
       "    <tr>\n",
       "      <th>56</th>\n",
       "      <td>ID_05FC0AD</td>\n",
       "      <td>2010-07-04</td>\n",
       "      <td>2011-07-03</td>\n",
       "      <td>Female</td>\n",
       "      <td>50</td>\n",
       "      <td>2010-07-04</td>\n",
       "      <td>1</td>\n",
       "      <td>Saloon</td>\n",
       "      <td>NaN</td>\n",
       "      <td>TOYOTA</td>\n",
       "      <td>OBANIKORO</td>\n",
       "      <td>Benue</td>\n",
       "      <td>Car Classic</td>\n",
       "      <td>0</td>\n",
       "    </tr>\n",
       "    <tr>\n",
       "      <th>...</th>\n",
       "      <td>...</td>\n",
       "      <td>...</td>\n",
       "      <td>...</td>\n",
       "      <td>...</td>\n",
       "      <td>...</td>\n",
       "      <td>...</td>\n",
       "      <td>...</td>\n",
       "      <td>...</td>\n",
       "      <td>...</td>\n",
       "      <td>...</td>\n",
       "      <td>...</td>\n",
       "      <td>...</td>\n",
       "      <td>...</td>\n",
       "      <td>...</td>\n",
       "    </tr>\n",
       "    <tr>\n",
       "      <th>11993</th>\n",
       "      <td>ID_ZR94K40</td>\n",
       "      <td>2010-03-28</td>\n",
       "      <td>2011-03-27</td>\n",
       "      <td>Male</td>\n",
       "      <td>86</td>\n",
       "      <td>2010-03-28</td>\n",
       "      <td>1</td>\n",
       "      <td>NaN</td>\n",
       "      <td>NaN</td>\n",
       "      <td>TOYOTA</td>\n",
       "      <td>Kosofe</td>\n",
       "      <td>Benue</td>\n",
       "      <td>Car Classic</td>\n",
       "      <td>0</td>\n",
       "    </tr>\n",
       "    <tr>\n",
       "      <th>12004</th>\n",
       "      <td>ID_ZSEUUD8</td>\n",
       "      <td>2010-03-03</td>\n",
       "      <td>2011-03-01</td>\n",
       "      <td>Male</td>\n",
       "      <td>56</td>\n",
       "      <td>2010-03-03</td>\n",
       "      <td>1</td>\n",
       "      <td>Saloon</td>\n",
       "      <td>NaN</td>\n",
       "      <td>TOYOTA</td>\n",
       "      <td>Oredo</td>\n",
       "      <td>Benue</td>\n",
       "      <td>Car Classic</td>\n",
       "      <td>0</td>\n",
       "    </tr>\n",
       "    <tr>\n",
       "      <th>12009</th>\n",
       "      <td>ID_ZSQB2BN</td>\n",
       "      <td>2010-03-20</td>\n",
       "      <td>2011-01-27</td>\n",
       "      <td>Male</td>\n",
       "      <td>46</td>\n",
       "      <td>2010-03-20</td>\n",
       "      <td>2</td>\n",
       "      <td>Saloon</td>\n",
       "      <td>Black</td>\n",
       "      <td>Volkswagen</td>\n",
       "      <td>Katagum</td>\n",
       "      <td>Benue</td>\n",
       "      <td>Car Classic</td>\n",
       "      <td>0</td>\n",
       "    </tr>\n",
       "    <tr>\n",
       "      <th>12020</th>\n",
       "      <td>ID_ZTSQ90V</td>\n",
       "      <td>2010-02-06</td>\n",
       "      <td>2011-02-05</td>\n",
       "      <td>Male</td>\n",
       "      <td>57</td>\n",
       "      <td>2010-02-06</td>\n",
       "      <td>1</td>\n",
       "      <td>Saloon</td>\n",
       "      <td>Silver</td>\n",
       "      <td>TOYOTA</td>\n",
       "      <td>Egbeda</td>\n",
       "      <td>Benue</td>\n",
       "      <td>Car Classic</td>\n",
       "      <td>0</td>\n",
       "    </tr>\n",
       "    <tr>\n",
       "      <th>12050</th>\n",
       "      <td>ID_ZWX4QUS</td>\n",
       "      <td>2010-03-19</td>\n",
       "      <td>2011-03-18</td>\n",
       "      <td>Male</td>\n",
       "      <td>59</td>\n",
       "      <td>2010-03-19</td>\n",
       "      <td>1</td>\n",
       "      <td>JEEP</td>\n",
       "      <td>Black</td>\n",
       "      <td>TOYOTA</td>\n",
       "      <td>MAGODO</td>\n",
       "      <td>Benue</td>\n",
       "      <td>Car Classic</td>\n",
       "      <td>0</td>\n",
       "    </tr>\n",
       "  </tbody>\n",
       "</table>\n",
       "<p>626 rows × 14 columns</p>\n",
       "</div>"
      ],
      "text/plain": [
       "               ID Policy Start Date Policy End Date        Gender  Age  \\\n",
       "8      ID_00N7XT1        2010-07-06      2011-07-05        Female   71   \n",
       "26     ID_02DJWEN        2010-01-23      2011-01-16          Male   41   \n",
       "29     ID_02O5FDM        2010-02-10      2011-02-09  Joint Gender   20   \n",
       "46     ID_04JEN82        2010-03-08      2011-02-09          Male   41   \n",
       "56     ID_05FC0AD        2010-07-04      2011-07-03        Female   50   \n",
       "...           ...               ...             ...           ...  ...   \n",
       "11993  ID_ZR94K40        2010-03-28      2011-03-27          Male   86   \n",
       "12004  ID_ZSEUUD8        2010-03-03      2011-03-01          Male   56   \n",
       "12009  ID_ZSQB2BN        2010-03-20      2011-01-27          Male   46   \n",
       "12020  ID_ZTSQ90V        2010-02-06      2011-02-05          Male   57   \n",
       "12050  ID_ZWX4QUS        2010-03-19      2011-03-18          Male   59   \n",
       "\n",
       "      First Transaction Date  No_Pol Car_Category Subject_Car_Colour  \\\n",
       "8                 2010-07-06       2         JEEP              Black   \n",
       "26                2010-01-23       1       Saloon             Silver   \n",
       "29                2010-02-10       1          NaN        As Attached   \n",
       "46                2010-03-08       2       Saloon             Silver   \n",
       "56                2010-07-04       1       Saloon                NaN   \n",
       "...                      ...     ...          ...                ...   \n",
       "11993             2010-03-28       1          NaN                NaN   \n",
       "12004             2010-03-03       1       Saloon                NaN   \n",
       "12009             2010-03-20       2       Saloon              Black   \n",
       "12020             2010-02-06       1       Saloon             Silver   \n",
       "12050             2010-03-19       1         JEEP              Black   \n",
       "\n",
       "      Subject_Car_Make       LGA_Name  State  ProductName  target  \n",
       "8               REXTON        Badagry  Benue  Car Classic       0  \n",
       "26              TOYOTA           Yaba  Benue  Car Classic       0  \n",
       "29              TOYOTA          Aguda  Benue  Car Classic       0  \n",
       "46              TOYOTA  IbadanCentral  Benue     Car Plus       0  \n",
       "56              TOYOTA      OBANIKORO  Benue  Car Classic       0  \n",
       "...                ...            ...    ...          ...     ...  \n",
       "11993           TOYOTA         Kosofe  Benue  Car Classic       0  \n",
       "12004           TOYOTA          Oredo  Benue  Car Classic       0  \n",
       "12009       Volkswagen        Katagum  Benue  Car Classic       0  \n",
       "12020           TOYOTA         Egbeda  Benue  Car Classic       0  \n",
       "12050           TOYOTA         MAGODO  Benue  Car Classic       0  \n",
       "\n",
       "[626 rows x 14 columns]"
      ]
     },
     "execution_count": 5,
     "metadata": {},
     "output_type": "execute_result"
    }
   ],
   "source": [
    "train.loc[train.State =='Benue']"
   ]
  },
  {
   "cell_type": "code",
   "execution_count": 6,
   "metadata": {},
   "outputs": [
    {
     "data": {
      "text/html": [
       "<div>\n",
       "<style scoped>\n",
       "    .dataframe tbody tr th:only-of-type {\n",
       "        vertical-align: middle;\n",
       "    }\n",
       "\n",
       "    .dataframe tbody tr th {\n",
       "        vertical-align: top;\n",
       "    }\n",
       "\n",
       "    .dataframe thead th {\n",
       "        text-align: right;\n",
       "    }\n",
       "</style>\n",
       "<table border=\"1\" class=\"dataframe\">\n",
       "  <thead>\n",
       "    <tr style=\"text-align: right;\">\n",
       "      <th></th>\n",
       "      <th>Age</th>\n",
       "      <th>No_Pol</th>\n",
       "      <th>target</th>\n",
       "    </tr>\n",
       "  </thead>\n",
       "  <tbody>\n",
       "    <tr>\n",
       "      <th>count</th>\n",
       "      <td>12079.000000</td>\n",
       "      <td>12079.000000</td>\n",
       "      <td>12079.000000</td>\n",
       "    </tr>\n",
       "    <tr>\n",
       "      <th>mean</th>\n",
       "      <td>42.234539</td>\n",
       "      <td>1.307227</td>\n",
       "      <td>0.120457</td>\n",
       "    </tr>\n",
       "    <tr>\n",
       "      <th>std</th>\n",
       "      <td>97.492565</td>\n",
       "      <td>0.733085</td>\n",
       "      <td>0.325509</td>\n",
       "    </tr>\n",
       "    <tr>\n",
       "      <th>min</th>\n",
       "      <td>-6099.000000</td>\n",
       "      <td>1.000000</td>\n",
       "      <td>0.000000</td>\n",
       "    </tr>\n",
       "    <tr>\n",
       "      <th>25%</th>\n",
       "      <td>35.000000</td>\n",
       "      <td>1.000000</td>\n",
       "      <td>0.000000</td>\n",
       "    </tr>\n",
       "    <tr>\n",
       "      <th>50%</th>\n",
       "      <td>41.000000</td>\n",
       "      <td>1.000000</td>\n",
       "      <td>0.000000</td>\n",
       "    </tr>\n",
       "    <tr>\n",
       "      <th>75%</th>\n",
       "      <td>50.000000</td>\n",
       "      <td>1.000000</td>\n",
       "      <td>0.000000</td>\n",
       "    </tr>\n",
       "    <tr>\n",
       "      <th>max</th>\n",
       "      <td>320.000000</td>\n",
       "      <td>10.000000</td>\n",
       "      <td>1.000000</td>\n",
       "    </tr>\n",
       "  </tbody>\n",
       "</table>\n",
       "</div>"
      ],
      "text/plain": [
       "                Age        No_Pol        target\n",
       "count  12079.000000  12079.000000  12079.000000\n",
       "mean      42.234539      1.307227      0.120457\n",
       "std       97.492565      0.733085      0.325509\n",
       "min    -6099.000000      1.000000      0.000000\n",
       "25%       35.000000      1.000000      0.000000\n",
       "50%       41.000000      1.000000      0.000000\n",
       "75%       50.000000      1.000000      0.000000\n",
       "max      320.000000     10.000000      1.000000"
      ]
     },
     "execution_count": 6,
     "metadata": {},
     "output_type": "execute_result"
    }
   ],
   "source": [
    "train.describe()"
   ]
  },
  {
   "cell_type": "code",
   "execution_count": 7,
   "metadata": {},
   "outputs": [],
   "source": [
    "y=train['target']\n",
    "train = train.drop(['target','ID','Subject_Car_Colour','LGA_Name','First Transaction Date'],axis=1)\n",
    "test = test.drop(['ID','Subject_Car_Colour','LGA_Name','First Transaction Date'],axis=1)"
   ]
  },
  {
   "cell_type": "code",
   "execution_count": 8,
   "metadata": {},
   "outputs": [
    {
     "name": "stdout",
     "output_type": "stream",
     "text": [
      "<class 'pandas.core.frame.DataFrame'>\n",
      "RangeIndex: 12079 entries, 0 to 12078\n",
      "Data columns (total 9 columns):\n",
      " #   Column             Non-Null Count  Dtype         \n",
      "---  ------             --------------  -----         \n",
      " 0   Policy Start Date  12079 non-null  datetime64[ns]\n",
      " 1   Policy End Date    12079 non-null  datetime64[ns]\n",
      " 2   Gender             11720 non-null  object        \n",
      " 3   Age                12079 non-null  int64         \n",
      " 4   No_Pol             12079 non-null  int64         \n",
      " 5   Car_Category       8341 non-null   object        \n",
      " 6   Subject_Car_Make   9603 non-null   object        \n",
      " 7   State              5591 non-null   object        \n",
      " 8   ProductName        12079 non-null  object        \n",
      "dtypes: datetime64[ns](2), int64(2), object(5)\n",
      "memory usage: 849.4+ KB\n"
     ]
    }
   ],
   "source": [
    "train.info()"
   ]
  },
  {
   "cell_type": "code",
   "execution_count": 9,
   "metadata": {},
   "outputs": [
    {
     "data": {
      "text/plain": [
       "(12079, 9)"
      ]
     },
     "execution_count": 9,
     "metadata": {},
     "output_type": "execute_result"
    }
   ],
   "source": [
    "train.shape"
   ]
  },
  {
   "cell_type": "code",
   "execution_count": 10,
   "metadata": {},
   "outputs": [
    {
     "data": {
      "text/plain": [
       "(1202, 9)"
      ]
     },
     "execution_count": 10,
     "metadata": {},
     "output_type": "execute_result"
    }
   ],
   "source": [
    "test.shape"
   ]
  },
  {
   "cell_type": "code",
   "execution_count": 11,
   "metadata": {},
   "outputs": [
    {
     "name": "stdout",
     "output_type": "stream",
     "text": [
      "train shape (12079, 10)\n",
      "test shape (1202, 10)\n",
      "data shape (13281, 10)\n"
     ]
    }
   ],
   "source": [
    "train['source'] ='train'\n",
    "test['source'] ='test'\n",
    "\n",
    "df =pd.concat([train,test],ignore_index=True,sort=False)\n",
    "print('train shape',train.shape)\n",
    "print('test shape',test.shape)\n",
    "print('data shape',df.shape)"
   ]
  },
  {
   "cell_type": "code",
   "execution_count": 12,
   "metadata": {},
   "outputs": [],
   "source": [
    "df['Age'] = np.where(df['Age'].between(-6099,1), np.NaN, df['Age'])\n",
    "df['Age'] = np.where(df['Age'].between(90,320), np.NaN, df['Age'])"
   ]
  },
  {
   "cell_type": "code",
   "execution_count": 13,
   "metadata": {},
   "outputs": [
    {
     "data": {
      "text/html": [
       "<div>\n",
       "<style scoped>\n",
       "    .dataframe tbody tr th:only-of-type {\n",
       "        vertical-align: middle;\n",
       "    }\n",
       "\n",
       "    .dataframe tbody tr th {\n",
       "        vertical-align: top;\n",
       "    }\n",
       "\n",
       "    .dataframe thead th {\n",
       "        text-align: right;\n",
       "    }\n",
       "</style>\n",
       "<table border=\"1\" class=\"dataframe\">\n",
       "  <thead>\n",
       "    <tr style=\"text-align: right;\">\n",
       "      <th></th>\n",
       "      <th>Age</th>\n",
       "      <th>No_Pol</th>\n",
       "    </tr>\n",
       "  </thead>\n",
       "  <tbody>\n",
       "    <tr>\n",
       "      <th>count</th>\n",
       "      <td>12570.0000</td>\n",
       "      <td>13281.000000</td>\n",
       "    </tr>\n",
       "    <tr>\n",
       "      <th>mean</th>\n",
       "      <td>41.9035</td>\n",
       "      <td>1.302763</td>\n",
       "    </tr>\n",
       "    <tr>\n",
       "      <th>std</th>\n",
       "      <td>12.8081</td>\n",
       "      <td>0.723195</td>\n",
       "    </tr>\n",
       "    <tr>\n",
       "      <th>min</th>\n",
       "      <td>2.0000</td>\n",
       "      <td>1.000000</td>\n",
       "    </tr>\n",
       "    <tr>\n",
       "      <th>25%</th>\n",
       "      <td>35.0000</td>\n",
       "      <td>1.000000</td>\n",
       "    </tr>\n",
       "    <tr>\n",
       "      <th>50%</th>\n",
       "      <td>40.0000</td>\n",
       "      <td>1.000000</td>\n",
       "    </tr>\n",
       "    <tr>\n",
       "      <th>75%</th>\n",
       "      <td>49.0000</td>\n",
       "      <td>1.000000</td>\n",
       "    </tr>\n",
       "    <tr>\n",
       "      <th>max</th>\n",
       "      <td>89.0000</td>\n",
       "      <td>10.000000</td>\n",
       "    </tr>\n",
       "  </tbody>\n",
       "</table>\n",
       "</div>"
      ],
      "text/plain": [
       "              Age        No_Pol\n",
       "count  12570.0000  13281.000000\n",
       "mean      41.9035      1.302763\n",
       "std       12.8081      0.723195\n",
       "min        2.0000      1.000000\n",
       "25%       35.0000      1.000000\n",
       "50%       40.0000      1.000000\n",
       "75%       49.0000      1.000000\n",
       "max       89.0000     10.000000"
      ]
     },
     "execution_count": 13,
     "metadata": {},
     "output_type": "execute_result"
    }
   ],
   "source": [
    "df.describe()"
   ]
  },
  {
   "cell_type": "code",
   "execution_count": 14,
   "metadata": {},
   "outputs": [
    {
     "data": {
      "text/plain": [
       "Index(['Policy Start Date', 'Policy End Date', 'Gender', 'Age', 'No_Pol',\n",
       "       'Car_Category', 'Subject_Car_Make', 'State', 'ProductName', 'source'],\n",
       "      dtype='object')"
      ]
     },
     "execution_count": 14,
     "metadata": {},
     "output_type": "execute_result"
    }
   ],
   "source": [
    "df.columns"
   ]
  },
  {
   "cell_type": "code",
   "execution_count": 15,
   "metadata": {},
   "outputs": [
    {
     "data": {
      "text/plain": [
       "TOYOTA       5466\n",
       "Honda        1146\n",
       "Lexus         654\n",
       "Mercedes      577\n",
       "Hyundai       512\n",
       "             ... \n",
       "Howo            1\n",
       "COMMANDER       1\n",
       "Datsun          1\n",
       "Jincheng        1\n",
       "Lincoln         1\n",
       "Name: Subject_Car_Make, Length: 75, dtype: int64"
      ]
     },
     "execution_count": 15,
     "metadata": {},
     "output_type": "execute_result"
    }
   ],
   "source": [
    "df.Subject_Car_Make.value_counts()"
   ]
  },
  {
   "cell_type": "code",
   "execution_count": 16,
   "metadata": {},
   "outputs": [],
   "source": [
    "date_columns = ['Policy Start Date','Policy End Date']\n",
    "def extract_date_info(df,cols,):\n",
    "    for feat in cols:\n",
    "        df[feat +'_year'] = df[feat].dt.year\n",
    "        df[feat +'_day'] = df[feat].dt.day\n",
    "        df[feat +'_month'] = df[feat].dt.month\n",
    "        df[feat +'_quarter'] = df[feat].dt.quarter\n",
    "    df.drop(columns=date_columns,axis=1,inplace=True)\n",
    "    \n",
    "extract_date_info(df,date_columns)"
   ]
  },
  {
   "cell_type": "code",
   "execution_count": null,
   "metadata": {},
   "outputs": [],
   "source": []
  },
  {
   "cell_type": "code",
   "execution_count": null,
   "metadata": {},
   "outputs": [],
   "source": []
  },
  {
   "cell_type": "code",
   "execution_count": null,
   "metadata": {},
   "outputs": [],
   "source": []
  },
  {
   "cell_type": "code",
   "execution_count": 17,
   "metadata": {},
   "outputs": [],
   "source": [
    "df['Gender'] =df['Gender'].replace({\"NO GENDER\": \"NOT STATED\",\n",
    "                                                   \"SEX\": np.NaN,\"NO GENDER\": np.NaN,'Joint Gender': np.NaN,'Entity':np.NaN})\n",
    "df['Gender'].fillna(np.NaN, inplace=True)\n"
   ]
  },
  {
   "cell_type": "code",
   "execution_count": 18,
   "metadata": {},
   "outputs": [],
   "source": [
    "df['Policy End Date_year'] = np.where(df['Policy End Date_year'].between(2015,2041), np.NaN, df['Policy End Date_year'])"
   ]
  },
  {
   "cell_type": "code",
   "execution_count": 19,
   "metadata": {},
   "outputs": [
    {
     "data": {
      "text/plain": [
       "array([nan, 'Lagos', 'Benue', 'Eti-Osa', 'Delta', 'Ogun',\n",
       "       'Abuja-Municipal', 'Oshodi-Isolo', 'Ibeju-Lekki', 'Ibadan-West',\n",
       "       'Obia-Akpor', 'Ibadan-East', 'Kaduna-South', 'Amuwo-Odofin',\n",
       "       'Anambra', 'Rivers', 'Niger-State', 'Edo', 'Akwa-Ibom',\n",
       "       'ENUGU-EAST', 'Abuja', 'Kaduna', 'Esan-West', 'Obafemi-Owode',\n",
       "       'Orile-Iganmu', 'Ifako-Ijaye', 'Ibadan-North', 'Imo', 'Jos-North',\n",
       "       'Ondo-West', 'Kaduna-North', 'Aniocha-South', 'Awka-South',\n",
       "       'Ile-Oluji', 'Ijebu-Ode', 'Port-Harcourt', 'Nnewi-North',\n",
       "       'Aboh-Mbaise', 'Oyo', 'Akoko-West', 'Warri-Central', 'Cross-River',\n",
       "       'Jos-South', 'Onitsha-North', 'Osun', 'Ajeromi-Ifelodun',\n",
       "       'Kano-Municipal', 'Ife-Central', 'Ilorin-West', 'Lagelu-North',\n",
       "       'Owerri-Municipal', 'Nsit-Ubium', 'Udi-Agwu', 'Essien-Udim',\n",
       "       'Owerri-West', 'Ondo', 'Ogbmosho-South', 'Umuahia-South',\n",
       "       'ABULE-EGBA', 'Enugu-North', 'Ovia-SouthWest', 'Kebbi',\n",
       "       'Ajegunle-State', 'Ekiti-West', 'Ogun-Waterside', 'Ife-North',\n",
       "       'Anambra-East', 'Nasarawa', 'Etsako-West', 'Kwara', 'Aba-North',\n",
       "       'Awka-North', 'Ibarapa-Central', 'Idemili-North', 'Ogba-Ndoni',\n",
       "       'Calabar-Municipality', 'AJAO-ESTATE', 'Ekiti-East', 'Gombe',\n",
       "       'Bayelsa', 'Ado-Ota', 'Oyo-East', 'Ilorin-East', 'Ilesha-West',\n",
       "       'Central-Abuja', 'Kano', 'Owerri-North', 'Abia', 'Kogi',\n",
       "       'Ilesha-East', 'Esan-Central', 'Isoko-south', 'Ethiope-East',\n",
       "       'QuaAn-Pan', 'Warri-North', 'Ado-Ekiti', 'Bauchi', 'Ijebu-East',\n",
       "       'Onitsha-South', 'Ughelli-North', 'Warri-South', 'Ebonyi',\n",
       "       'Oyo-West', 'Aba-South', 'N-A', 'Isoko-North', 'Oshimili-North',\n",
       "       'Ndokwa-East', 'Nnewi-South', 'ENUGU-SOUTH', 'Ijebu-North',\n",
       "       'Asari-Toru', 'Idemili-south', 'Ngor-Okpala'], dtype=object)"
      ]
     },
     "execution_count": 19,
     "metadata": {},
     "output_type": "execute_result"
    }
   ],
   "source": [
    "df.State.unique()"
   ]
  },
  {
   "cell_type": "code",
   "execution_count": 20,
   "metadata": {},
   "outputs": [],
   "source": [
    "df['State'] = df['State'].replace({'Abuja-Municipal':'Federal Capital Territory','Oshodi-Isolo':'Lagos','Ibeju-Lekki':'Lagos','Ibadan-West':'Ibadan','Eti-Osa':'Lagos'\n",
    "                                        ,'Obia-Akpor':'Awka-Ibom','Ibadan-East':'Oyo','Amuwo-Odofin':'Lagos','ENUGU-EAST':'Enugu','Esan-West':'Edo'\n",
    "                                         ,'Obafemi-Owode':'Ogun','Orile-Iganmu':'Lagos', 'Ifako-Ijaye':'Lagos', 'Ibadan-North':'Oyo',\n",
    "                                         'Jos-North':'Plateau'\n",
    "                                        , 'Ondo-West':'Ondo', 'Kaduna-North':'Kaduna','Aniocha-South':'Delta','Ile-Oluji':'Ondo','Nnewi-North':'Anambra'\n",
    "                                        ,'Aboh-Mbaise':'Imo', 'Akoko-West':'Ondo','Warri-Central':'Edo', 'Jos-South':'Plateus','Onitsha-North':'Anambra'\n",
    "                                        , 'Ajeromi-Ifelodun':'Osun', 'Kano-Municipal':'Kano','Ife-Central':'Osun','Ilorin-West':'Kwara'\n",
    "                                         ,'Lagelu-North':'Oyo', 'Owerri-Municipal':'Imo','Nsit-Ubium':'Awka-Ibom', 'Udi-Agwu':'Enugu',\n",
    "                                         'Owerri-West':'Imo'\n",
    "                                         ,'Ogbmosho-South':'Oyo', 'Umuahia-South':'Abia','Ajegunle-State':'Lagos','Ekiti-West':'Ekiti',\n",
    "                                         'Ogun-Waterside':'Ogun'\n",
    "                                        ,'Awka-North':'Anambra','ABULE-EGBA':'Lagos','Ife-North':'Osun', 'Anambra-East':'Anambra', 'Etsako-West':'Edo'\n",
    "                                         ,'Aba-North':'Abia','Ibarapa-Central':'Oyo', 'Idemili-North':'Anambra', 'Ogba-Ndoni':'Rivers', \n",
    "                                         'Calabar-Municipality':'Cross-River','AJAO-ESTATE':'Lagos','Ekiti-East':'Ekiti',\n",
    "                                         'Ovia-SouthWest':'Edo','Essien-Udim':'Akwa-Ibom',\n",
    "                                         'Ado-Ota':'Ogun', 'Oyo-East':'Oyo', 'Ilorin-East':'Kwara', 'Ilesha-West':'Osun', 'Central-Abuja':'Federal Capital Territory',\n",
    "                                         'Owerri-North':'Imo','Ilesha-East':'Osun', 'Awka-South':'Delta','Enugu-North':'Enugu','Ibadan':'Oyo',\n",
    "                                         'Esan-Central':'Edo', 'Isoko-south':'Delta', 'Ethiope-East':'Delta','Ijebu-Ode':'Ogun'\n",
    "                                         ,'QuaAn-Pan':'Plateus', 'Warri-North':'Delta', 'Ado-Ekiti':'Ekiti', 'Ijebu-East':'Ogun',\n",
    "                                         'Onitsha-South':'Anambra', 'Ughelli-North':'Delta', 'Warri-South':'Delta', 'Kaduna-South':'Kaduna',\n",
    "                                         'Port-Harcourt':'Rivers', 'N-A':np.NaN, 'Idemili-south': 'Anambra', 'Ngor-Okpala':'Imo',\n",
    "      \n",
    "                                         'Oyo-West':'Oyo', 'Aba-South':'Abia', 'Isoko-North':'Delta', 'Oshimili-North':'Delta',\n",
    "                                         'Ndokwa-East':'Delta', 'Nnewi-South':'Anambra', 'ENUGU-SOUTH':'Enugu', 'Ijebu-North':'Ogun',\n",
    "                                         'Asari-Toru':'Rivers', 'Akwa-Ibom':'Awka-Ibom'})\n",
    "df.State.fillna(np.NaN,inplace =True)"
   ]
  },
  {
   "cell_type": "code",
   "execution_count": 21,
   "metadata": {},
   "outputs": [
    {
     "data": {
      "text/plain": [
       "Gender                        8.742446\n",
       "Age                           5.886249\n",
       "No_Pol                        0.000000\n",
       "Car_Category                 34.025996\n",
       "Subject_Car_Make             22.551536\n",
       "State                        59.152248\n",
       "ProductName                   0.000000\n",
       "source                        0.000000\n",
       "Policy Start Date_year        0.000000\n",
       "Policy Start Date_day         0.000000\n",
       "Policy Start Date_month       0.000000\n",
       "Policy Start Date_quarter     0.000000\n",
       "Policy End Date_year          0.049673\n",
       "Policy End Date_day           0.000000\n",
       "Policy End Date_month         0.000000\n",
       "Policy End Date_quarter       0.000000\n",
       "dtype: float64"
      ]
     },
     "execution_count": 21,
     "metadata": {},
     "output_type": "execute_result"
    }
   ],
   "source": [
    "df.isnull().sum()/len(train)* 100"
   ]
  },
  {
   "cell_type": "code",
   "execution_count": 22,
   "metadata": {},
   "outputs": [],
   "source": [
    "cat_cols=['State','ProductName','Car_Category','Subject_Car_Make','Gender']\n",
    "for i in cat_cols:\n",
    "    df[i] = df[i].fillna(df[i].mode()[0])"
   ]
  },
  {
   "cell_type": "code",
   "execution_count": 23,
   "metadata": {},
   "outputs": [],
   "source": [
    "from sklearn.preprocessing import LabelEncoder\n",
    "df[cat_cols] = df[cat_cols].astype('category')"
   ]
  },
  {
   "cell_type": "code",
   "execution_count": 24,
   "metadata": {},
   "outputs": [],
   "source": [
    "train = df.loc[df['source']=='train']\n",
    "test = df.loc[df['source']=='test']\n",
    "\n",
    "train.drop('source',axis=1,inplace=True)\n",
    "test.drop('source',axis =1,inplace =True)"
   ]
  },
  {
   "cell_type": "code",
   "execution_count": 25,
   "metadata": {},
   "outputs": [],
   "source": [
    "X = train\n",
    "test_new = test"
   ]
  },
  {
   "cell_type": "code",
   "execution_count": 26,
   "metadata": {},
   "outputs": [
    {
     "data": {
      "text/plain": [
       "Index(['Gender', 'Age', 'No_Pol', 'Car_Category', 'Subject_Car_Make', 'State',\n",
       "       'ProductName', 'Policy Start Date_year', 'Policy Start Date_day',\n",
       "       'Policy Start Date_month', 'Policy Start Date_quarter',\n",
       "       'Policy End Date_year', 'Policy End Date_day', 'Policy End Date_month',\n",
       "       'Policy End Date_quarter'],\n",
       "      dtype='object')"
      ]
     },
     "execution_count": 26,
     "metadata": {},
     "output_type": "execute_result"
    }
   ],
   "source": [
    "X.columns"
   ]
  },
  {
   "cell_type": "code",
   "execution_count": 27,
   "metadata": {},
   "outputs": [],
   "source": [
    "from lightgbm import LGBMClassifier\n",
    "import lightgbm\n",
    "from xgboost import XGBClassifier\n",
    "from sklearn.ensemble import *\n",
    "from sklearn.metrics import log_loss\n",
    "from sklearn.model_selection import StratifiedKFold,StratifiedShuffleSplit"
   ]
  },
  {
   "cell_type": "code",
   "execution_count": 28,
   "metadata": {},
   "outputs": [],
   "source": [
    "# parameters = {\n",
    "#     'application': 'binary',\n",
    "#     'objective': 'binary',\n",
    "#     'metric': 'auc',\n",
    "#     'is_unbalance': 'true',\n",
    "#     'boosting': 'gbdt',\n",
    "#     'num_leaves': 31,\n",
    "#     'feature_fraction': 0.5,\n",
    "#     'bagging_fraction': 0.5,\n",
    "#     'bagging_freq': 20,\n",
    "#     'learning_rate': 0.05,\n",
    "#     'verbose': False,\n",
    "#     'scale_pos_weight': 3.5\n",
    "# }"
   ]
  },
  {
   "cell_type": "code",
   "execution_count": null,
   "metadata": {},
   "outputs": [],
   "source": []
  },
  {
   "cell_type": "code",
   "execution_count": null,
   "metadata": {},
   "outputs": [],
   "source": []
  },
  {
   "cell_type": "code",
   "execution_count": null,
   "metadata": {},
   "outputs": [],
   "source": []
  },
  {
   "cell_type": "code",
   "execution_count": null,
   "metadata": {},
   "outputs": [],
   "source": []
  },
  {
   "cell_type": "code",
   "execution_count": 117,
   "metadata": {},
   "outputs": [
    {
     "name": "stdout",
     "output_type": "stream",
     "text": [
      "Number of splits trained 1 \n",
      "Number of splits trained 2 \n",
      "Number of splits trained 3 \n",
      "Number of splits trained 4 \n",
      "Number of splits trained 5 \n",
      "Number of splits trained 6 \n",
      "Number of splits trained 7 \n",
      "Number of splits trained 8 \n",
      "Number of splits trained 9 \n",
      "Number of splits trained 10 \n"
     ]
    },
    {
     "data": {
      "text/plain": [
       "0.3559636552724128"
      ]
     },
     "execution_count": 117,
     "metadata": {},
     "output_type": "execute_result"
    }
   ],
   "source": [
    "\n",
    "seed = 2021\n",
    "skf = StratifiedKFold(n_splits=10, shuffle=True, random_state=seed)\n",
    "scores = []\n",
    "preds= []\n",
    "\n",
    "\n",
    "\n",
    "    \n",
    "\n",
    "#creating a for loop for the stratified k fold\n",
    "i = 1\n",
    "for train, test in skf.split(X, y):\n",
    "    x_train, x_test, y_train, y_test = X.iloc[train], X.iloc[test], y.iloc[train], y.iloc[test]\n",
    "    estimator = LGBMClassifier(learning_rate=0.22,n_estimators =100\n",
    "                               ,scale_pos_weight= 3.5,max_depth=16,num_leaves=50,reg_lambda=0.3,)\n",
    "\n",
    "    estimator.fit( x_train, y_train, )\n",
    "    \n",
    "    print('Number of splits trained {} '.format(i))\n",
    "    score = f1_score(y_test, estimator.predict(x_test))\n",
    "    pred = estimator.predict_proba(test_new)[:,1]\n",
    "    scores.append(score)\n",
    "    preds.append(pred)\n",
    "    i += 1\n",
    "\n",
    "np.mean(scores)"
   ]
  },
  {
   "cell_type": "code",
   "execution_count": 118,
   "metadata": {},
   "outputs": [
    {
     "data": {
      "text/plain": [
       "array([0.2168761 , 0.61740899, 0.05952248, ..., 0.63941883, 0.11326342,\n",
       "       0.72167368])"
      ]
     },
     "execution_count": 118,
     "metadata": {},
     "output_type": "execute_result"
    }
   ],
   "source": [
    "pred"
   ]
  },
  {
   "cell_type": "code",
   "execution_count": 119,
   "metadata": {},
   "outputs": [
    {
     "data": {
      "text/plain": [
       "(1202, 15)"
      ]
     },
     "execution_count": 119,
     "metadata": {},
     "output_type": "execute_result"
    }
   ],
   "source": [
    "test_new.shape"
   ]
  },
  {
   "cell_type": "code",
   "execution_count": 120,
   "metadata": {},
   "outputs": [],
   "source": [
    "preds_mean = np.mean(preds, axis=0)"
   ]
  },
  {
   "cell_type": "code",
   "execution_count": 121,
   "metadata": {},
   "outputs": [
    {
     "data": {
      "text/plain": [
       "(1202,)"
      ]
     },
     "execution_count": 121,
     "metadata": {},
     "output_type": "execute_result"
    }
   ],
   "source": [
    "preds_mean.shape"
   ]
  },
  {
   "cell_type": "code",
   "execution_count": 122,
   "metadata": {},
   "outputs": [],
   "source": [
    "final = []\n",
    "for x in preds_mean:\n",
    "    if x >= 0.5:\n",
    "        final.append(1)\n",
    "    else:\n",
    "        final.append(0)\n",
    "submit = ss.copy()\n",
    "submit.target = final\n",
    "submit.to_csv('Baseline_lg.csv',index=False)"
   ]
  },
  {
   "cell_type": "code",
   "execution_count": 123,
   "metadata": {},
   "outputs": [
    {
     "data": {
      "text/plain": [
       "0    1103\n",
       "1      99\n",
       "Name: target, dtype: int64"
      ]
     },
     "execution_count": 123,
     "metadata": {},
     "output_type": "execute_result"
    }
   ],
   "source": [
    "submit.target.value_counts()"
   ]
  },
  {
   "cell_type": "code",
   "execution_count": null,
   "metadata": {},
   "outputs": [],
   "source": []
  },
  {
   "cell_type": "code",
   "execution_count": null,
   "metadata": {},
   "outputs": [],
   "source": []
  }
 ],
 "metadata": {
  "kernelspec": {
   "display_name": "Python 3",
   "language": "python",
   "name": "python3"
  },
  "language_info": {
   "codemirror_mode": {
    "name": "ipython",
    "version": 3
   },
   "file_extension": ".py",
   "mimetype": "text/x-python",
   "name": "python",
   "nbconvert_exporter": "python",
   "pygments_lexer": "ipython3",
   "version": "3.7.4"
  }
 },
 "nbformat": 4,
 "nbformat_minor": 4
}
